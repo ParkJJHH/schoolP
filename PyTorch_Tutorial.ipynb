{
  "nbformat": 4,
  "nbformat_minor": 0,
  "metadata": {
    "colab": {
      "provenance": [],
      "collapsed_sections": [
        "IZjO9GcIFl5Y",
        "zgW_ii7HFwls",
        "YMokuJtqJ9x2",
        "tOjMHBwoPG2H",
        "7kGbcVEJTHv1",
        "jrLt5lquZ4iG",
        "qEZYII_1mgug",
        "OYbFDnuxpYZf"
      ],
      "authorship_tag": "ABX9TyOafZBQTFckg+EJ/lh1Csha",
      "include_colab_link": true
    },
    "kernelspec": {
      "name": "python3",
      "display_name": "Python 3"
    },
    "language_info": {
      "name": "python"
    },
    "widgets": {
      "application/vnd.jupyter.widget-state+json": {
        "a757ce8d25994f03a2af65e2f8f54887": {
          "model_module": "@jupyter-widgets/controls",
          "model_name": "HBoxModel",
          "model_module_version": "1.5.0",
          "state": {
            "_dom_classes": [],
            "_model_module": "@jupyter-widgets/controls",
            "_model_module_version": "1.5.0",
            "_model_name": "HBoxModel",
            "_view_count": null,
            "_view_module": "@jupyter-widgets/controls",
            "_view_module_version": "1.5.0",
            "_view_name": "HBoxView",
            "box_style": "",
            "children": [
              "IPY_MODEL_c7894c4b366b48d2a5fd83329e6ec4b2",
              "IPY_MODEL_f4e3601b520346e284ea9200c55f9f03",
              "IPY_MODEL_43ba59713e374e1e8e9c09509a2733a4"
            ],
            "layout": "IPY_MODEL_de14ad9f174c46eabce99cbf3ce3d1c5"
          }
        },
        "c7894c4b366b48d2a5fd83329e6ec4b2": {
          "model_module": "@jupyter-widgets/controls",
          "model_name": "HTMLModel",
          "model_module_version": "1.5.0",
          "state": {
            "_dom_classes": [],
            "_model_module": "@jupyter-widgets/controls",
            "_model_module_version": "1.5.0",
            "_model_name": "HTMLModel",
            "_view_count": null,
            "_view_module": "@jupyter-widgets/controls",
            "_view_module_version": "1.5.0",
            "_view_name": "HTMLView",
            "description": "",
            "description_tooltip": null,
            "layout": "IPY_MODEL_9214d2471f5f436eb9830f4a9b330359",
            "placeholder": "​",
            "style": "IPY_MODEL_0ba09665b6b64a8ca41ca92a89d540cb",
            "value": "100%"
          }
        },
        "f4e3601b520346e284ea9200c55f9f03": {
          "model_module": "@jupyter-widgets/controls",
          "model_name": "FloatProgressModel",
          "model_module_version": "1.5.0",
          "state": {
            "_dom_classes": [],
            "_model_module": "@jupyter-widgets/controls",
            "_model_module_version": "1.5.0",
            "_model_name": "FloatProgressModel",
            "_view_count": null,
            "_view_module": "@jupyter-widgets/controls",
            "_view_module_version": "1.5.0",
            "_view_name": "ProgressView",
            "bar_style": "success",
            "description": "",
            "description_tooltip": null,
            "layout": "IPY_MODEL_73eb32810f1041aa877128050a31c62c",
            "max": 26421880,
            "min": 0,
            "orientation": "horizontal",
            "style": "IPY_MODEL_9b5a08605b3d4615943f8b96251bbd6e",
            "value": 26421880
          }
        },
        "43ba59713e374e1e8e9c09509a2733a4": {
          "model_module": "@jupyter-widgets/controls",
          "model_name": "HTMLModel",
          "model_module_version": "1.5.0",
          "state": {
            "_dom_classes": [],
            "_model_module": "@jupyter-widgets/controls",
            "_model_module_version": "1.5.0",
            "_model_name": "HTMLModel",
            "_view_count": null,
            "_view_module": "@jupyter-widgets/controls",
            "_view_module_version": "1.5.0",
            "_view_name": "HTMLView",
            "description": "",
            "description_tooltip": null,
            "layout": "IPY_MODEL_0fe0125243544e5db2642eb25d84bc13",
            "placeholder": "​",
            "style": "IPY_MODEL_1a7f5c7237134c45b6bd64cf024f3d16",
            "value": " 26421880/26421880 [00:02&lt;00:00, 18613906.49it/s]"
          }
        },
        "de14ad9f174c46eabce99cbf3ce3d1c5": {
          "model_module": "@jupyter-widgets/base",
          "model_name": "LayoutModel",
          "model_module_version": "1.2.0",
          "state": {
            "_model_module": "@jupyter-widgets/base",
            "_model_module_version": "1.2.0",
            "_model_name": "LayoutModel",
            "_view_count": null,
            "_view_module": "@jupyter-widgets/base",
            "_view_module_version": "1.2.0",
            "_view_name": "LayoutView",
            "align_content": null,
            "align_items": null,
            "align_self": null,
            "border": null,
            "bottom": null,
            "display": null,
            "flex": null,
            "flex_flow": null,
            "grid_area": null,
            "grid_auto_columns": null,
            "grid_auto_flow": null,
            "grid_auto_rows": null,
            "grid_column": null,
            "grid_gap": null,
            "grid_row": null,
            "grid_template_areas": null,
            "grid_template_columns": null,
            "grid_template_rows": null,
            "height": null,
            "justify_content": null,
            "justify_items": null,
            "left": null,
            "margin": null,
            "max_height": null,
            "max_width": null,
            "min_height": null,
            "min_width": null,
            "object_fit": null,
            "object_position": null,
            "order": null,
            "overflow": null,
            "overflow_x": null,
            "overflow_y": null,
            "padding": null,
            "right": null,
            "top": null,
            "visibility": null,
            "width": null
          }
        },
        "9214d2471f5f436eb9830f4a9b330359": {
          "model_module": "@jupyter-widgets/base",
          "model_name": "LayoutModel",
          "model_module_version": "1.2.0",
          "state": {
            "_model_module": "@jupyter-widgets/base",
            "_model_module_version": "1.2.0",
            "_model_name": "LayoutModel",
            "_view_count": null,
            "_view_module": "@jupyter-widgets/base",
            "_view_module_version": "1.2.0",
            "_view_name": "LayoutView",
            "align_content": null,
            "align_items": null,
            "align_self": null,
            "border": null,
            "bottom": null,
            "display": null,
            "flex": null,
            "flex_flow": null,
            "grid_area": null,
            "grid_auto_columns": null,
            "grid_auto_flow": null,
            "grid_auto_rows": null,
            "grid_column": null,
            "grid_gap": null,
            "grid_row": null,
            "grid_template_areas": null,
            "grid_template_columns": null,
            "grid_template_rows": null,
            "height": null,
            "justify_content": null,
            "justify_items": null,
            "left": null,
            "margin": null,
            "max_height": null,
            "max_width": null,
            "min_height": null,
            "min_width": null,
            "object_fit": null,
            "object_position": null,
            "order": null,
            "overflow": null,
            "overflow_x": null,
            "overflow_y": null,
            "padding": null,
            "right": null,
            "top": null,
            "visibility": null,
            "width": null
          }
        },
        "0ba09665b6b64a8ca41ca92a89d540cb": {
          "model_module": "@jupyter-widgets/controls",
          "model_name": "DescriptionStyleModel",
          "model_module_version": "1.5.0",
          "state": {
            "_model_module": "@jupyter-widgets/controls",
            "_model_module_version": "1.5.0",
            "_model_name": "DescriptionStyleModel",
            "_view_count": null,
            "_view_module": "@jupyter-widgets/base",
            "_view_module_version": "1.2.0",
            "_view_name": "StyleView",
            "description_width": ""
          }
        },
        "73eb32810f1041aa877128050a31c62c": {
          "model_module": "@jupyter-widgets/base",
          "model_name": "LayoutModel",
          "model_module_version": "1.2.0",
          "state": {
            "_model_module": "@jupyter-widgets/base",
            "_model_module_version": "1.2.0",
            "_model_name": "LayoutModel",
            "_view_count": null,
            "_view_module": "@jupyter-widgets/base",
            "_view_module_version": "1.2.0",
            "_view_name": "LayoutView",
            "align_content": null,
            "align_items": null,
            "align_self": null,
            "border": null,
            "bottom": null,
            "display": null,
            "flex": null,
            "flex_flow": null,
            "grid_area": null,
            "grid_auto_columns": null,
            "grid_auto_flow": null,
            "grid_auto_rows": null,
            "grid_column": null,
            "grid_gap": null,
            "grid_row": null,
            "grid_template_areas": null,
            "grid_template_columns": null,
            "grid_template_rows": null,
            "height": null,
            "justify_content": null,
            "justify_items": null,
            "left": null,
            "margin": null,
            "max_height": null,
            "max_width": null,
            "min_height": null,
            "min_width": null,
            "object_fit": null,
            "object_position": null,
            "order": null,
            "overflow": null,
            "overflow_x": null,
            "overflow_y": null,
            "padding": null,
            "right": null,
            "top": null,
            "visibility": null,
            "width": null
          }
        },
        "9b5a08605b3d4615943f8b96251bbd6e": {
          "model_module": "@jupyter-widgets/controls",
          "model_name": "ProgressStyleModel",
          "model_module_version": "1.5.0",
          "state": {
            "_model_module": "@jupyter-widgets/controls",
            "_model_module_version": "1.5.0",
            "_model_name": "ProgressStyleModel",
            "_view_count": null,
            "_view_module": "@jupyter-widgets/base",
            "_view_module_version": "1.2.0",
            "_view_name": "StyleView",
            "bar_color": null,
            "description_width": ""
          }
        },
        "0fe0125243544e5db2642eb25d84bc13": {
          "model_module": "@jupyter-widgets/base",
          "model_name": "LayoutModel",
          "model_module_version": "1.2.0",
          "state": {
            "_model_module": "@jupyter-widgets/base",
            "_model_module_version": "1.2.0",
            "_model_name": "LayoutModel",
            "_view_count": null,
            "_view_module": "@jupyter-widgets/base",
            "_view_module_version": "1.2.0",
            "_view_name": "LayoutView",
            "align_content": null,
            "align_items": null,
            "align_self": null,
            "border": null,
            "bottom": null,
            "display": null,
            "flex": null,
            "flex_flow": null,
            "grid_area": null,
            "grid_auto_columns": null,
            "grid_auto_flow": null,
            "grid_auto_rows": null,
            "grid_column": null,
            "grid_gap": null,
            "grid_row": null,
            "grid_template_areas": null,
            "grid_template_columns": null,
            "grid_template_rows": null,
            "height": null,
            "justify_content": null,
            "justify_items": null,
            "left": null,
            "margin": null,
            "max_height": null,
            "max_width": null,
            "min_height": null,
            "min_width": null,
            "object_fit": null,
            "object_position": null,
            "order": null,
            "overflow": null,
            "overflow_x": null,
            "overflow_y": null,
            "padding": null,
            "right": null,
            "top": null,
            "visibility": null,
            "width": null
          }
        },
        "1a7f5c7237134c45b6bd64cf024f3d16": {
          "model_module": "@jupyter-widgets/controls",
          "model_name": "DescriptionStyleModel",
          "model_module_version": "1.5.0",
          "state": {
            "_model_module": "@jupyter-widgets/controls",
            "_model_module_version": "1.5.0",
            "_model_name": "DescriptionStyleModel",
            "_view_count": null,
            "_view_module": "@jupyter-widgets/base",
            "_view_module_version": "1.2.0",
            "_view_name": "StyleView",
            "description_width": ""
          }
        },
        "346f2a229e154a40b20b5da4c71689ba": {
          "model_module": "@jupyter-widgets/controls",
          "model_name": "HBoxModel",
          "model_module_version": "1.5.0",
          "state": {
            "_dom_classes": [],
            "_model_module": "@jupyter-widgets/controls",
            "_model_module_version": "1.5.0",
            "_model_name": "HBoxModel",
            "_view_count": null,
            "_view_module": "@jupyter-widgets/controls",
            "_view_module_version": "1.5.0",
            "_view_name": "HBoxView",
            "box_style": "",
            "children": [
              "IPY_MODEL_75f17b6384784effa46ba9c18133642b",
              "IPY_MODEL_0ab4e707126f4bb397d93d2d60d5badd",
              "IPY_MODEL_7f36c18cc60e462dbbde6079ce35b364"
            ],
            "layout": "IPY_MODEL_0c94bb6007cb4400b17434358cdc1a4b"
          }
        },
        "75f17b6384784effa46ba9c18133642b": {
          "model_module": "@jupyter-widgets/controls",
          "model_name": "HTMLModel",
          "model_module_version": "1.5.0",
          "state": {
            "_dom_classes": [],
            "_model_module": "@jupyter-widgets/controls",
            "_model_module_version": "1.5.0",
            "_model_name": "HTMLModel",
            "_view_count": null,
            "_view_module": "@jupyter-widgets/controls",
            "_view_module_version": "1.5.0",
            "_view_name": "HTMLView",
            "description": "",
            "description_tooltip": null,
            "layout": "IPY_MODEL_e2a4dd0b70534f72b718dd08406ac9a0",
            "placeholder": "​",
            "style": "IPY_MODEL_89b914bdda2349e1841d9e0833b148e5",
            "value": "100%"
          }
        },
        "0ab4e707126f4bb397d93d2d60d5badd": {
          "model_module": "@jupyter-widgets/controls",
          "model_name": "FloatProgressModel",
          "model_module_version": "1.5.0",
          "state": {
            "_dom_classes": [],
            "_model_module": "@jupyter-widgets/controls",
            "_model_module_version": "1.5.0",
            "_model_name": "FloatProgressModel",
            "_view_count": null,
            "_view_module": "@jupyter-widgets/controls",
            "_view_module_version": "1.5.0",
            "_view_name": "ProgressView",
            "bar_style": "success",
            "description": "",
            "description_tooltip": null,
            "layout": "IPY_MODEL_28a9fb1f4d994505a4a60ac46c59cde2",
            "max": 29515,
            "min": 0,
            "orientation": "horizontal",
            "style": "IPY_MODEL_d80317badaec4711b22d27316f05b13c",
            "value": 29515
          }
        },
        "7f36c18cc60e462dbbde6079ce35b364": {
          "model_module": "@jupyter-widgets/controls",
          "model_name": "HTMLModel",
          "model_module_version": "1.5.0",
          "state": {
            "_dom_classes": [],
            "_model_module": "@jupyter-widgets/controls",
            "_model_module_version": "1.5.0",
            "_model_name": "HTMLModel",
            "_view_count": null,
            "_view_module": "@jupyter-widgets/controls",
            "_view_module_version": "1.5.0",
            "_view_name": "HTMLView",
            "description": "",
            "description_tooltip": null,
            "layout": "IPY_MODEL_b7aa926951094acd87bfc4f40f716a01",
            "placeholder": "​",
            "style": "IPY_MODEL_a057cbd4d52746bab7653b8f1235d2e3",
            "value": " 29515/29515 [00:00&lt;00:00, 195967.59it/s]"
          }
        },
        "0c94bb6007cb4400b17434358cdc1a4b": {
          "model_module": "@jupyter-widgets/base",
          "model_name": "LayoutModel",
          "model_module_version": "1.2.0",
          "state": {
            "_model_module": "@jupyter-widgets/base",
            "_model_module_version": "1.2.0",
            "_model_name": "LayoutModel",
            "_view_count": null,
            "_view_module": "@jupyter-widgets/base",
            "_view_module_version": "1.2.0",
            "_view_name": "LayoutView",
            "align_content": null,
            "align_items": null,
            "align_self": null,
            "border": null,
            "bottom": null,
            "display": null,
            "flex": null,
            "flex_flow": null,
            "grid_area": null,
            "grid_auto_columns": null,
            "grid_auto_flow": null,
            "grid_auto_rows": null,
            "grid_column": null,
            "grid_gap": null,
            "grid_row": null,
            "grid_template_areas": null,
            "grid_template_columns": null,
            "grid_template_rows": null,
            "height": null,
            "justify_content": null,
            "justify_items": null,
            "left": null,
            "margin": null,
            "max_height": null,
            "max_width": null,
            "min_height": null,
            "min_width": null,
            "object_fit": null,
            "object_position": null,
            "order": null,
            "overflow": null,
            "overflow_x": null,
            "overflow_y": null,
            "padding": null,
            "right": null,
            "top": null,
            "visibility": null,
            "width": null
          }
        },
        "e2a4dd0b70534f72b718dd08406ac9a0": {
          "model_module": "@jupyter-widgets/base",
          "model_name": "LayoutModel",
          "model_module_version": "1.2.0",
          "state": {
            "_model_module": "@jupyter-widgets/base",
            "_model_module_version": "1.2.0",
            "_model_name": "LayoutModel",
            "_view_count": null,
            "_view_module": "@jupyter-widgets/base",
            "_view_module_version": "1.2.0",
            "_view_name": "LayoutView",
            "align_content": null,
            "align_items": null,
            "align_self": null,
            "border": null,
            "bottom": null,
            "display": null,
            "flex": null,
            "flex_flow": null,
            "grid_area": null,
            "grid_auto_columns": null,
            "grid_auto_flow": null,
            "grid_auto_rows": null,
            "grid_column": null,
            "grid_gap": null,
            "grid_row": null,
            "grid_template_areas": null,
            "grid_template_columns": null,
            "grid_template_rows": null,
            "height": null,
            "justify_content": null,
            "justify_items": null,
            "left": null,
            "margin": null,
            "max_height": null,
            "max_width": null,
            "min_height": null,
            "min_width": null,
            "object_fit": null,
            "object_position": null,
            "order": null,
            "overflow": null,
            "overflow_x": null,
            "overflow_y": null,
            "padding": null,
            "right": null,
            "top": null,
            "visibility": null,
            "width": null
          }
        },
        "89b914bdda2349e1841d9e0833b148e5": {
          "model_module": "@jupyter-widgets/controls",
          "model_name": "DescriptionStyleModel",
          "model_module_version": "1.5.0",
          "state": {
            "_model_module": "@jupyter-widgets/controls",
            "_model_module_version": "1.5.0",
            "_model_name": "DescriptionStyleModel",
            "_view_count": null,
            "_view_module": "@jupyter-widgets/base",
            "_view_module_version": "1.2.0",
            "_view_name": "StyleView",
            "description_width": ""
          }
        },
        "28a9fb1f4d994505a4a60ac46c59cde2": {
          "model_module": "@jupyter-widgets/base",
          "model_name": "LayoutModel",
          "model_module_version": "1.2.0",
          "state": {
            "_model_module": "@jupyter-widgets/base",
            "_model_module_version": "1.2.0",
            "_model_name": "LayoutModel",
            "_view_count": null,
            "_view_module": "@jupyter-widgets/base",
            "_view_module_version": "1.2.0",
            "_view_name": "LayoutView",
            "align_content": null,
            "align_items": null,
            "align_self": null,
            "border": null,
            "bottom": null,
            "display": null,
            "flex": null,
            "flex_flow": null,
            "grid_area": null,
            "grid_auto_columns": null,
            "grid_auto_flow": null,
            "grid_auto_rows": null,
            "grid_column": null,
            "grid_gap": null,
            "grid_row": null,
            "grid_template_areas": null,
            "grid_template_columns": null,
            "grid_template_rows": null,
            "height": null,
            "justify_content": null,
            "justify_items": null,
            "left": null,
            "margin": null,
            "max_height": null,
            "max_width": null,
            "min_height": null,
            "min_width": null,
            "object_fit": null,
            "object_position": null,
            "order": null,
            "overflow": null,
            "overflow_x": null,
            "overflow_y": null,
            "padding": null,
            "right": null,
            "top": null,
            "visibility": null,
            "width": null
          }
        },
        "d80317badaec4711b22d27316f05b13c": {
          "model_module": "@jupyter-widgets/controls",
          "model_name": "ProgressStyleModel",
          "model_module_version": "1.5.0",
          "state": {
            "_model_module": "@jupyter-widgets/controls",
            "_model_module_version": "1.5.0",
            "_model_name": "ProgressStyleModel",
            "_view_count": null,
            "_view_module": "@jupyter-widgets/base",
            "_view_module_version": "1.2.0",
            "_view_name": "StyleView",
            "bar_color": null,
            "description_width": ""
          }
        },
        "b7aa926951094acd87bfc4f40f716a01": {
          "model_module": "@jupyter-widgets/base",
          "model_name": "LayoutModel",
          "model_module_version": "1.2.0",
          "state": {
            "_model_module": "@jupyter-widgets/base",
            "_model_module_version": "1.2.0",
            "_model_name": "LayoutModel",
            "_view_count": null,
            "_view_module": "@jupyter-widgets/base",
            "_view_module_version": "1.2.0",
            "_view_name": "LayoutView",
            "align_content": null,
            "align_items": null,
            "align_self": null,
            "border": null,
            "bottom": null,
            "display": null,
            "flex": null,
            "flex_flow": null,
            "grid_area": null,
            "grid_auto_columns": null,
            "grid_auto_flow": null,
            "grid_auto_rows": null,
            "grid_column": null,
            "grid_gap": null,
            "grid_row": null,
            "grid_template_areas": null,
            "grid_template_columns": null,
            "grid_template_rows": null,
            "height": null,
            "justify_content": null,
            "justify_items": null,
            "left": null,
            "margin": null,
            "max_height": null,
            "max_width": null,
            "min_height": null,
            "min_width": null,
            "object_fit": null,
            "object_position": null,
            "order": null,
            "overflow": null,
            "overflow_x": null,
            "overflow_y": null,
            "padding": null,
            "right": null,
            "top": null,
            "visibility": null,
            "width": null
          }
        },
        "a057cbd4d52746bab7653b8f1235d2e3": {
          "model_module": "@jupyter-widgets/controls",
          "model_name": "DescriptionStyleModel",
          "model_module_version": "1.5.0",
          "state": {
            "_model_module": "@jupyter-widgets/controls",
            "_model_module_version": "1.5.0",
            "_model_name": "DescriptionStyleModel",
            "_view_count": null,
            "_view_module": "@jupyter-widgets/base",
            "_view_module_version": "1.2.0",
            "_view_name": "StyleView",
            "description_width": ""
          }
        },
        "867c8e2fe7bb4fe7ab742d98a9232a89": {
          "model_module": "@jupyter-widgets/controls",
          "model_name": "HBoxModel",
          "model_module_version": "1.5.0",
          "state": {
            "_dom_classes": [],
            "_model_module": "@jupyter-widgets/controls",
            "_model_module_version": "1.5.0",
            "_model_name": "HBoxModel",
            "_view_count": null,
            "_view_module": "@jupyter-widgets/controls",
            "_view_module_version": "1.5.0",
            "_view_name": "HBoxView",
            "box_style": "",
            "children": [
              "IPY_MODEL_5c713a52597a4a5b9f5a705576fffda6",
              "IPY_MODEL_33dfa7ab6adf4a02b6677e54064506c8",
              "IPY_MODEL_6a49afb3bc664ed38d8689884dc59fb9"
            ],
            "layout": "IPY_MODEL_686e63b81c9548b98cf8fd960a37e3a6"
          }
        },
        "5c713a52597a4a5b9f5a705576fffda6": {
          "model_module": "@jupyter-widgets/controls",
          "model_name": "HTMLModel",
          "model_module_version": "1.5.0",
          "state": {
            "_dom_classes": [],
            "_model_module": "@jupyter-widgets/controls",
            "_model_module_version": "1.5.0",
            "_model_name": "HTMLModel",
            "_view_count": null,
            "_view_module": "@jupyter-widgets/controls",
            "_view_module_version": "1.5.0",
            "_view_name": "HTMLView",
            "description": "",
            "description_tooltip": null,
            "layout": "IPY_MODEL_2de0a82ddfd74276bd326cdff2f8b391",
            "placeholder": "​",
            "style": "IPY_MODEL_ff8a6cf415ac4776bd273c2666c93329",
            "value": "100%"
          }
        },
        "33dfa7ab6adf4a02b6677e54064506c8": {
          "model_module": "@jupyter-widgets/controls",
          "model_name": "FloatProgressModel",
          "model_module_version": "1.5.0",
          "state": {
            "_dom_classes": [],
            "_model_module": "@jupyter-widgets/controls",
            "_model_module_version": "1.5.0",
            "_model_name": "FloatProgressModel",
            "_view_count": null,
            "_view_module": "@jupyter-widgets/controls",
            "_view_module_version": "1.5.0",
            "_view_name": "ProgressView",
            "bar_style": "success",
            "description": "",
            "description_tooltip": null,
            "layout": "IPY_MODEL_6ef63a5a3c9b4882befab1d32df0b493",
            "max": 4422102,
            "min": 0,
            "orientation": "horizontal",
            "style": "IPY_MODEL_69b30a3757d444339e80d2eff51081fd",
            "value": 4422102
          }
        },
        "6a49afb3bc664ed38d8689884dc59fb9": {
          "model_module": "@jupyter-widgets/controls",
          "model_name": "HTMLModel",
          "model_module_version": "1.5.0",
          "state": {
            "_dom_classes": [],
            "_model_module": "@jupyter-widgets/controls",
            "_model_module_version": "1.5.0",
            "_model_name": "HTMLModel",
            "_view_count": null,
            "_view_module": "@jupyter-widgets/controls",
            "_view_module_version": "1.5.0",
            "_view_name": "HTMLView",
            "description": "",
            "description_tooltip": null,
            "layout": "IPY_MODEL_32ab853213a54154b515ba1299bd898f",
            "placeholder": "​",
            "style": "IPY_MODEL_278812714bbe4bd8a421e7dc4b9bd2ad",
            "value": " 4422102/4422102 [00:01&lt;00:00, 6169010.90it/s]"
          }
        },
        "686e63b81c9548b98cf8fd960a37e3a6": {
          "model_module": "@jupyter-widgets/base",
          "model_name": "LayoutModel",
          "model_module_version": "1.2.0",
          "state": {
            "_model_module": "@jupyter-widgets/base",
            "_model_module_version": "1.2.0",
            "_model_name": "LayoutModel",
            "_view_count": null,
            "_view_module": "@jupyter-widgets/base",
            "_view_module_version": "1.2.0",
            "_view_name": "LayoutView",
            "align_content": null,
            "align_items": null,
            "align_self": null,
            "border": null,
            "bottom": null,
            "display": null,
            "flex": null,
            "flex_flow": null,
            "grid_area": null,
            "grid_auto_columns": null,
            "grid_auto_flow": null,
            "grid_auto_rows": null,
            "grid_column": null,
            "grid_gap": null,
            "grid_row": null,
            "grid_template_areas": null,
            "grid_template_columns": null,
            "grid_template_rows": null,
            "height": null,
            "justify_content": null,
            "justify_items": null,
            "left": null,
            "margin": null,
            "max_height": null,
            "max_width": null,
            "min_height": null,
            "min_width": null,
            "object_fit": null,
            "object_position": null,
            "order": null,
            "overflow": null,
            "overflow_x": null,
            "overflow_y": null,
            "padding": null,
            "right": null,
            "top": null,
            "visibility": null,
            "width": null
          }
        },
        "2de0a82ddfd74276bd326cdff2f8b391": {
          "model_module": "@jupyter-widgets/base",
          "model_name": "LayoutModel",
          "model_module_version": "1.2.0",
          "state": {
            "_model_module": "@jupyter-widgets/base",
            "_model_module_version": "1.2.0",
            "_model_name": "LayoutModel",
            "_view_count": null,
            "_view_module": "@jupyter-widgets/base",
            "_view_module_version": "1.2.0",
            "_view_name": "LayoutView",
            "align_content": null,
            "align_items": null,
            "align_self": null,
            "border": null,
            "bottom": null,
            "display": null,
            "flex": null,
            "flex_flow": null,
            "grid_area": null,
            "grid_auto_columns": null,
            "grid_auto_flow": null,
            "grid_auto_rows": null,
            "grid_column": null,
            "grid_gap": null,
            "grid_row": null,
            "grid_template_areas": null,
            "grid_template_columns": null,
            "grid_template_rows": null,
            "height": null,
            "justify_content": null,
            "justify_items": null,
            "left": null,
            "margin": null,
            "max_height": null,
            "max_width": null,
            "min_height": null,
            "min_width": null,
            "object_fit": null,
            "object_position": null,
            "order": null,
            "overflow": null,
            "overflow_x": null,
            "overflow_y": null,
            "padding": null,
            "right": null,
            "top": null,
            "visibility": null,
            "width": null
          }
        },
        "ff8a6cf415ac4776bd273c2666c93329": {
          "model_module": "@jupyter-widgets/controls",
          "model_name": "DescriptionStyleModel",
          "model_module_version": "1.5.0",
          "state": {
            "_model_module": "@jupyter-widgets/controls",
            "_model_module_version": "1.5.0",
            "_model_name": "DescriptionStyleModel",
            "_view_count": null,
            "_view_module": "@jupyter-widgets/base",
            "_view_module_version": "1.2.0",
            "_view_name": "StyleView",
            "description_width": ""
          }
        },
        "6ef63a5a3c9b4882befab1d32df0b493": {
          "model_module": "@jupyter-widgets/base",
          "model_name": "LayoutModel",
          "model_module_version": "1.2.0",
          "state": {
            "_model_module": "@jupyter-widgets/base",
            "_model_module_version": "1.2.0",
            "_model_name": "LayoutModel",
            "_view_count": null,
            "_view_module": "@jupyter-widgets/base",
            "_view_module_version": "1.2.0",
            "_view_name": "LayoutView",
            "align_content": null,
            "align_items": null,
            "align_self": null,
            "border": null,
            "bottom": null,
            "display": null,
            "flex": null,
            "flex_flow": null,
            "grid_area": null,
            "grid_auto_columns": null,
            "grid_auto_flow": null,
            "grid_auto_rows": null,
            "grid_column": null,
            "grid_gap": null,
            "grid_row": null,
            "grid_template_areas": null,
            "grid_template_columns": null,
            "grid_template_rows": null,
            "height": null,
            "justify_content": null,
            "justify_items": null,
            "left": null,
            "margin": null,
            "max_height": null,
            "max_width": null,
            "min_height": null,
            "min_width": null,
            "object_fit": null,
            "object_position": null,
            "order": null,
            "overflow": null,
            "overflow_x": null,
            "overflow_y": null,
            "padding": null,
            "right": null,
            "top": null,
            "visibility": null,
            "width": null
          }
        },
        "69b30a3757d444339e80d2eff51081fd": {
          "model_module": "@jupyter-widgets/controls",
          "model_name": "ProgressStyleModel",
          "model_module_version": "1.5.0",
          "state": {
            "_model_module": "@jupyter-widgets/controls",
            "_model_module_version": "1.5.0",
            "_model_name": "ProgressStyleModel",
            "_view_count": null,
            "_view_module": "@jupyter-widgets/base",
            "_view_module_version": "1.2.0",
            "_view_name": "StyleView",
            "bar_color": null,
            "description_width": ""
          }
        },
        "32ab853213a54154b515ba1299bd898f": {
          "model_module": "@jupyter-widgets/base",
          "model_name": "LayoutModel",
          "model_module_version": "1.2.0",
          "state": {
            "_model_module": "@jupyter-widgets/base",
            "_model_module_version": "1.2.0",
            "_model_name": "LayoutModel",
            "_view_count": null,
            "_view_module": "@jupyter-widgets/base",
            "_view_module_version": "1.2.0",
            "_view_name": "LayoutView",
            "align_content": null,
            "align_items": null,
            "align_self": null,
            "border": null,
            "bottom": null,
            "display": null,
            "flex": null,
            "flex_flow": null,
            "grid_area": null,
            "grid_auto_columns": null,
            "grid_auto_flow": null,
            "grid_auto_rows": null,
            "grid_column": null,
            "grid_gap": null,
            "grid_row": null,
            "grid_template_areas": null,
            "grid_template_columns": null,
            "grid_template_rows": null,
            "height": null,
            "justify_content": null,
            "justify_items": null,
            "left": null,
            "margin": null,
            "max_height": null,
            "max_width": null,
            "min_height": null,
            "min_width": null,
            "object_fit": null,
            "object_position": null,
            "order": null,
            "overflow": null,
            "overflow_x": null,
            "overflow_y": null,
            "padding": null,
            "right": null,
            "top": null,
            "visibility": null,
            "width": null
          }
        },
        "278812714bbe4bd8a421e7dc4b9bd2ad": {
          "model_module": "@jupyter-widgets/controls",
          "model_name": "DescriptionStyleModel",
          "model_module_version": "1.5.0",
          "state": {
            "_model_module": "@jupyter-widgets/controls",
            "_model_module_version": "1.5.0",
            "_model_name": "DescriptionStyleModel",
            "_view_count": null,
            "_view_module": "@jupyter-widgets/base",
            "_view_module_version": "1.2.0",
            "_view_name": "StyleView",
            "description_width": ""
          }
        },
        "f15dc23f8a8945f5a62239618cc04ffe": {
          "model_module": "@jupyter-widgets/controls",
          "model_name": "HBoxModel",
          "model_module_version": "1.5.0",
          "state": {
            "_dom_classes": [],
            "_model_module": "@jupyter-widgets/controls",
            "_model_module_version": "1.5.0",
            "_model_name": "HBoxModel",
            "_view_count": null,
            "_view_module": "@jupyter-widgets/controls",
            "_view_module_version": "1.5.0",
            "_view_name": "HBoxView",
            "box_style": "",
            "children": [
              "IPY_MODEL_bbacac7ccecb4befb93ab2fa881224d3",
              "IPY_MODEL_a119476c17044a1089e0dc3a8fe13675",
              "IPY_MODEL_dc66673f70d5400c9ff62702a0fa119f"
            ],
            "layout": "IPY_MODEL_5d5b588b9bf94e3bbf0122c9ee19e554"
          }
        },
        "bbacac7ccecb4befb93ab2fa881224d3": {
          "model_module": "@jupyter-widgets/controls",
          "model_name": "HTMLModel",
          "model_module_version": "1.5.0",
          "state": {
            "_dom_classes": [],
            "_model_module": "@jupyter-widgets/controls",
            "_model_module_version": "1.5.0",
            "_model_name": "HTMLModel",
            "_view_count": null,
            "_view_module": "@jupyter-widgets/controls",
            "_view_module_version": "1.5.0",
            "_view_name": "HTMLView",
            "description": "",
            "description_tooltip": null,
            "layout": "IPY_MODEL_a5b6adb591d54faea2f2500174b4a4a4",
            "placeholder": "​",
            "style": "IPY_MODEL_bfd629e0a0e845b6aeddd0c37ec659ce",
            "value": "100%"
          }
        },
        "a119476c17044a1089e0dc3a8fe13675": {
          "model_module": "@jupyter-widgets/controls",
          "model_name": "FloatProgressModel",
          "model_module_version": "1.5.0",
          "state": {
            "_dom_classes": [],
            "_model_module": "@jupyter-widgets/controls",
            "_model_module_version": "1.5.0",
            "_model_name": "FloatProgressModel",
            "_view_count": null,
            "_view_module": "@jupyter-widgets/controls",
            "_view_module_version": "1.5.0",
            "_view_name": "ProgressView",
            "bar_style": "success",
            "description": "",
            "description_tooltip": null,
            "layout": "IPY_MODEL_e09ef43cd5ce46d9b5288e585d5c01cc",
            "max": 5148,
            "min": 0,
            "orientation": "horizontal",
            "style": "IPY_MODEL_5d991ab9be9a48aa9606de3a188655a3",
            "value": 5148
          }
        },
        "dc66673f70d5400c9ff62702a0fa119f": {
          "model_module": "@jupyter-widgets/controls",
          "model_name": "HTMLModel",
          "model_module_version": "1.5.0",
          "state": {
            "_dom_classes": [],
            "_model_module": "@jupyter-widgets/controls",
            "_model_module_version": "1.5.0",
            "_model_name": "HTMLModel",
            "_view_count": null,
            "_view_module": "@jupyter-widgets/controls",
            "_view_module_version": "1.5.0",
            "_view_name": "HTMLView",
            "description": "",
            "description_tooltip": null,
            "layout": "IPY_MODEL_7c2e6392354e47a1b4dd185b9a6c6c4c",
            "placeholder": "​",
            "style": "IPY_MODEL_025fbe91a6904c3c96c7378ff9f4dfcf",
            "value": " 5148/5148 [00:00&lt;00:00, 76905.71it/s]"
          }
        },
        "5d5b588b9bf94e3bbf0122c9ee19e554": {
          "model_module": "@jupyter-widgets/base",
          "model_name": "LayoutModel",
          "model_module_version": "1.2.0",
          "state": {
            "_model_module": "@jupyter-widgets/base",
            "_model_module_version": "1.2.0",
            "_model_name": "LayoutModel",
            "_view_count": null,
            "_view_module": "@jupyter-widgets/base",
            "_view_module_version": "1.2.0",
            "_view_name": "LayoutView",
            "align_content": null,
            "align_items": null,
            "align_self": null,
            "border": null,
            "bottom": null,
            "display": null,
            "flex": null,
            "flex_flow": null,
            "grid_area": null,
            "grid_auto_columns": null,
            "grid_auto_flow": null,
            "grid_auto_rows": null,
            "grid_column": null,
            "grid_gap": null,
            "grid_row": null,
            "grid_template_areas": null,
            "grid_template_columns": null,
            "grid_template_rows": null,
            "height": null,
            "justify_content": null,
            "justify_items": null,
            "left": null,
            "margin": null,
            "max_height": null,
            "max_width": null,
            "min_height": null,
            "min_width": null,
            "object_fit": null,
            "object_position": null,
            "order": null,
            "overflow": null,
            "overflow_x": null,
            "overflow_y": null,
            "padding": null,
            "right": null,
            "top": null,
            "visibility": null,
            "width": null
          }
        },
        "a5b6adb591d54faea2f2500174b4a4a4": {
          "model_module": "@jupyter-widgets/base",
          "model_name": "LayoutModel",
          "model_module_version": "1.2.0",
          "state": {
            "_model_module": "@jupyter-widgets/base",
            "_model_module_version": "1.2.0",
            "_model_name": "LayoutModel",
            "_view_count": null,
            "_view_module": "@jupyter-widgets/base",
            "_view_module_version": "1.2.0",
            "_view_name": "LayoutView",
            "align_content": null,
            "align_items": null,
            "align_self": null,
            "border": null,
            "bottom": null,
            "display": null,
            "flex": null,
            "flex_flow": null,
            "grid_area": null,
            "grid_auto_columns": null,
            "grid_auto_flow": null,
            "grid_auto_rows": null,
            "grid_column": null,
            "grid_gap": null,
            "grid_row": null,
            "grid_template_areas": null,
            "grid_template_columns": null,
            "grid_template_rows": null,
            "height": null,
            "justify_content": null,
            "justify_items": null,
            "left": null,
            "margin": null,
            "max_height": null,
            "max_width": null,
            "min_height": null,
            "min_width": null,
            "object_fit": null,
            "object_position": null,
            "order": null,
            "overflow": null,
            "overflow_x": null,
            "overflow_y": null,
            "padding": null,
            "right": null,
            "top": null,
            "visibility": null,
            "width": null
          }
        },
        "bfd629e0a0e845b6aeddd0c37ec659ce": {
          "model_module": "@jupyter-widgets/controls",
          "model_name": "DescriptionStyleModel",
          "model_module_version": "1.5.0",
          "state": {
            "_model_module": "@jupyter-widgets/controls",
            "_model_module_version": "1.5.0",
            "_model_name": "DescriptionStyleModel",
            "_view_count": null,
            "_view_module": "@jupyter-widgets/base",
            "_view_module_version": "1.2.0",
            "_view_name": "StyleView",
            "description_width": ""
          }
        },
        "e09ef43cd5ce46d9b5288e585d5c01cc": {
          "model_module": "@jupyter-widgets/base",
          "model_name": "LayoutModel",
          "model_module_version": "1.2.0",
          "state": {
            "_model_module": "@jupyter-widgets/base",
            "_model_module_version": "1.2.0",
            "_model_name": "LayoutModel",
            "_view_count": null,
            "_view_module": "@jupyter-widgets/base",
            "_view_module_version": "1.2.0",
            "_view_name": "LayoutView",
            "align_content": null,
            "align_items": null,
            "align_self": null,
            "border": null,
            "bottom": null,
            "display": null,
            "flex": null,
            "flex_flow": null,
            "grid_area": null,
            "grid_auto_columns": null,
            "grid_auto_flow": null,
            "grid_auto_rows": null,
            "grid_column": null,
            "grid_gap": null,
            "grid_row": null,
            "grid_template_areas": null,
            "grid_template_columns": null,
            "grid_template_rows": null,
            "height": null,
            "justify_content": null,
            "justify_items": null,
            "left": null,
            "margin": null,
            "max_height": null,
            "max_width": null,
            "min_height": null,
            "min_width": null,
            "object_fit": null,
            "object_position": null,
            "order": null,
            "overflow": null,
            "overflow_x": null,
            "overflow_y": null,
            "padding": null,
            "right": null,
            "top": null,
            "visibility": null,
            "width": null
          }
        },
        "5d991ab9be9a48aa9606de3a188655a3": {
          "model_module": "@jupyter-widgets/controls",
          "model_name": "ProgressStyleModel",
          "model_module_version": "1.5.0",
          "state": {
            "_model_module": "@jupyter-widgets/controls",
            "_model_module_version": "1.5.0",
            "_model_name": "ProgressStyleModel",
            "_view_count": null,
            "_view_module": "@jupyter-widgets/base",
            "_view_module_version": "1.2.0",
            "_view_name": "StyleView",
            "bar_color": null,
            "description_width": ""
          }
        },
        "7c2e6392354e47a1b4dd185b9a6c6c4c": {
          "model_module": "@jupyter-widgets/base",
          "model_name": "LayoutModel",
          "model_module_version": "1.2.0",
          "state": {
            "_model_module": "@jupyter-widgets/base",
            "_model_module_version": "1.2.0",
            "_model_name": "LayoutModel",
            "_view_count": null,
            "_view_module": "@jupyter-widgets/base",
            "_view_module_version": "1.2.0",
            "_view_name": "LayoutView",
            "align_content": null,
            "align_items": null,
            "align_self": null,
            "border": null,
            "bottom": null,
            "display": null,
            "flex": null,
            "flex_flow": null,
            "grid_area": null,
            "grid_auto_columns": null,
            "grid_auto_flow": null,
            "grid_auto_rows": null,
            "grid_column": null,
            "grid_gap": null,
            "grid_row": null,
            "grid_template_areas": null,
            "grid_template_columns": null,
            "grid_template_rows": null,
            "height": null,
            "justify_content": null,
            "justify_items": null,
            "left": null,
            "margin": null,
            "max_height": null,
            "max_width": null,
            "min_height": null,
            "min_width": null,
            "object_fit": null,
            "object_position": null,
            "order": null,
            "overflow": null,
            "overflow_x": null,
            "overflow_y": null,
            "padding": null,
            "right": null,
            "top": null,
            "visibility": null,
            "width": null
          }
        },
        "025fbe91a6904c3c96c7378ff9f4dfcf": {
          "model_module": "@jupyter-widgets/controls",
          "model_name": "DescriptionStyleModel",
          "model_module_version": "1.5.0",
          "state": {
            "_model_module": "@jupyter-widgets/controls",
            "_model_module_version": "1.5.0",
            "_model_name": "DescriptionStyleModel",
            "_view_count": null,
            "_view_module": "@jupyter-widgets/base",
            "_view_module_version": "1.2.0",
            "_view_name": "StyleView",
            "description_width": ""
          }
        },
        "2ce1ed4d7e884a01b6c8dde079c9cb7f": {
          "model_module": "@jupyter-widgets/controls",
          "model_name": "HBoxModel",
          "model_module_version": "1.5.0",
          "state": {
            "_dom_classes": [],
            "_model_module": "@jupyter-widgets/controls",
            "_model_module_version": "1.5.0",
            "_model_name": "HBoxModel",
            "_view_count": null,
            "_view_module": "@jupyter-widgets/controls",
            "_view_module_version": "1.5.0",
            "_view_name": "HBoxView",
            "box_style": "",
            "children": [
              "IPY_MODEL_4b409010b20c4603a9c6cafa0717cca1",
              "IPY_MODEL_d1c49a9a892342cba8af8e16bcd77de3",
              "IPY_MODEL_bd6b6bf032eb4aeda1e033fefe7edacc"
            ],
            "layout": "IPY_MODEL_f9e7ad3842ae42d599342bf020f66e19"
          }
        },
        "4b409010b20c4603a9c6cafa0717cca1": {
          "model_module": "@jupyter-widgets/controls",
          "model_name": "HTMLModel",
          "model_module_version": "1.5.0",
          "state": {
            "_dom_classes": [],
            "_model_module": "@jupyter-widgets/controls",
            "_model_module_version": "1.5.0",
            "_model_name": "HTMLModel",
            "_view_count": null,
            "_view_module": "@jupyter-widgets/controls",
            "_view_module_version": "1.5.0",
            "_view_name": "HTMLView",
            "description": "",
            "description_tooltip": null,
            "layout": "IPY_MODEL_3b4deebc0db445baa6efc750532d3384",
            "placeholder": "​",
            "style": "IPY_MODEL_858f63c811454052ac0bfe698411163d",
            "value": "100%"
          }
        },
        "d1c49a9a892342cba8af8e16bcd77de3": {
          "model_module": "@jupyter-widgets/controls",
          "model_name": "FloatProgressModel",
          "model_module_version": "1.5.0",
          "state": {
            "_dom_classes": [],
            "_model_module": "@jupyter-widgets/controls",
            "_model_module_version": "1.5.0",
            "_model_name": "FloatProgressModel",
            "_view_count": null,
            "_view_module": "@jupyter-widgets/controls",
            "_view_module_version": "1.5.0",
            "_view_name": "ProgressView",
            "bar_style": "success",
            "description": "",
            "description_tooltip": null,
            "layout": "IPY_MODEL_591cc1f2a1d242e0916d805538655fd0",
            "max": 553433881,
            "min": 0,
            "orientation": "horizontal",
            "style": "IPY_MODEL_2b79ae98f35a4f969e9bafeddd95b9b5",
            "value": 553433881
          }
        },
        "bd6b6bf032eb4aeda1e033fefe7edacc": {
          "model_module": "@jupyter-widgets/controls",
          "model_name": "HTMLModel",
          "model_module_version": "1.5.0",
          "state": {
            "_dom_classes": [],
            "_model_module": "@jupyter-widgets/controls",
            "_model_module_version": "1.5.0",
            "_model_name": "HTMLModel",
            "_view_count": null,
            "_view_module": "@jupyter-widgets/controls",
            "_view_module_version": "1.5.0",
            "_view_name": "HTMLView",
            "description": "",
            "description_tooltip": null,
            "layout": "IPY_MODEL_c2c3adb177fe4f31b9bc06f61f9fc9d3",
            "placeholder": "​",
            "style": "IPY_MODEL_65d0020d42b940baa8efd9816a967eb9",
            "value": " 528M/528M [00:12&lt;00:00, 41.3MB/s]"
          }
        },
        "f9e7ad3842ae42d599342bf020f66e19": {
          "model_module": "@jupyter-widgets/base",
          "model_name": "LayoutModel",
          "model_module_version": "1.2.0",
          "state": {
            "_model_module": "@jupyter-widgets/base",
            "_model_module_version": "1.2.0",
            "_model_name": "LayoutModel",
            "_view_count": null,
            "_view_module": "@jupyter-widgets/base",
            "_view_module_version": "1.2.0",
            "_view_name": "LayoutView",
            "align_content": null,
            "align_items": null,
            "align_self": null,
            "border": null,
            "bottom": null,
            "display": null,
            "flex": null,
            "flex_flow": null,
            "grid_area": null,
            "grid_auto_columns": null,
            "grid_auto_flow": null,
            "grid_auto_rows": null,
            "grid_column": null,
            "grid_gap": null,
            "grid_row": null,
            "grid_template_areas": null,
            "grid_template_columns": null,
            "grid_template_rows": null,
            "height": null,
            "justify_content": null,
            "justify_items": null,
            "left": null,
            "margin": null,
            "max_height": null,
            "max_width": null,
            "min_height": null,
            "min_width": null,
            "object_fit": null,
            "object_position": null,
            "order": null,
            "overflow": null,
            "overflow_x": null,
            "overflow_y": null,
            "padding": null,
            "right": null,
            "top": null,
            "visibility": null,
            "width": null
          }
        },
        "3b4deebc0db445baa6efc750532d3384": {
          "model_module": "@jupyter-widgets/base",
          "model_name": "LayoutModel",
          "model_module_version": "1.2.0",
          "state": {
            "_model_module": "@jupyter-widgets/base",
            "_model_module_version": "1.2.0",
            "_model_name": "LayoutModel",
            "_view_count": null,
            "_view_module": "@jupyter-widgets/base",
            "_view_module_version": "1.2.0",
            "_view_name": "LayoutView",
            "align_content": null,
            "align_items": null,
            "align_self": null,
            "border": null,
            "bottom": null,
            "display": null,
            "flex": null,
            "flex_flow": null,
            "grid_area": null,
            "grid_auto_columns": null,
            "grid_auto_flow": null,
            "grid_auto_rows": null,
            "grid_column": null,
            "grid_gap": null,
            "grid_row": null,
            "grid_template_areas": null,
            "grid_template_columns": null,
            "grid_template_rows": null,
            "height": null,
            "justify_content": null,
            "justify_items": null,
            "left": null,
            "margin": null,
            "max_height": null,
            "max_width": null,
            "min_height": null,
            "min_width": null,
            "object_fit": null,
            "object_position": null,
            "order": null,
            "overflow": null,
            "overflow_x": null,
            "overflow_y": null,
            "padding": null,
            "right": null,
            "top": null,
            "visibility": null,
            "width": null
          }
        },
        "858f63c811454052ac0bfe698411163d": {
          "model_module": "@jupyter-widgets/controls",
          "model_name": "DescriptionStyleModel",
          "model_module_version": "1.5.0",
          "state": {
            "_model_module": "@jupyter-widgets/controls",
            "_model_module_version": "1.5.0",
            "_model_name": "DescriptionStyleModel",
            "_view_count": null,
            "_view_module": "@jupyter-widgets/base",
            "_view_module_version": "1.2.0",
            "_view_name": "StyleView",
            "description_width": ""
          }
        },
        "591cc1f2a1d242e0916d805538655fd0": {
          "model_module": "@jupyter-widgets/base",
          "model_name": "LayoutModel",
          "model_module_version": "1.2.0",
          "state": {
            "_model_module": "@jupyter-widgets/base",
            "_model_module_version": "1.2.0",
            "_model_name": "LayoutModel",
            "_view_count": null,
            "_view_module": "@jupyter-widgets/base",
            "_view_module_version": "1.2.0",
            "_view_name": "LayoutView",
            "align_content": null,
            "align_items": null,
            "align_self": null,
            "border": null,
            "bottom": null,
            "display": null,
            "flex": null,
            "flex_flow": null,
            "grid_area": null,
            "grid_auto_columns": null,
            "grid_auto_flow": null,
            "grid_auto_rows": null,
            "grid_column": null,
            "grid_gap": null,
            "grid_row": null,
            "grid_template_areas": null,
            "grid_template_columns": null,
            "grid_template_rows": null,
            "height": null,
            "justify_content": null,
            "justify_items": null,
            "left": null,
            "margin": null,
            "max_height": null,
            "max_width": null,
            "min_height": null,
            "min_width": null,
            "object_fit": null,
            "object_position": null,
            "order": null,
            "overflow": null,
            "overflow_x": null,
            "overflow_y": null,
            "padding": null,
            "right": null,
            "top": null,
            "visibility": null,
            "width": null
          }
        },
        "2b79ae98f35a4f969e9bafeddd95b9b5": {
          "model_module": "@jupyter-widgets/controls",
          "model_name": "ProgressStyleModel",
          "model_module_version": "1.5.0",
          "state": {
            "_model_module": "@jupyter-widgets/controls",
            "_model_module_version": "1.5.0",
            "_model_name": "ProgressStyleModel",
            "_view_count": null,
            "_view_module": "@jupyter-widgets/base",
            "_view_module_version": "1.2.0",
            "_view_name": "StyleView",
            "bar_color": null,
            "description_width": ""
          }
        },
        "c2c3adb177fe4f31b9bc06f61f9fc9d3": {
          "model_module": "@jupyter-widgets/base",
          "model_name": "LayoutModel",
          "model_module_version": "1.2.0",
          "state": {
            "_model_module": "@jupyter-widgets/base",
            "_model_module_version": "1.2.0",
            "_model_name": "LayoutModel",
            "_view_count": null,
            "_view_module": "@jupyter-widgets/base",
            "_view_module_version": "1.2.0",
            "_view_name": "LayoutView",
            "align_content": null,
            "align_items": null,
            "align_self": null,
            "border": null,
            "bottom": null,
            "display": null,
            "flex": null,
            "flex_flow": null,
            "grid_area": null,
            "grid_auto_columns": null,
            "grid_auto_flow": null,
            "grid_auto_rows": null,
            "grid_column": null,
            "grid_gap": null,
            "grid_row": null,
            "grid_template_areas": null,
            "grid_template_columns": null,
            "grid_template_rows": null,
            "height": null,
            "justify_content": null,
            "justify_items": null,
            "left": null,
            "margin": null,
            "max_height": null,
            "max_width": null,
            "min_height": null,
            "min_width": null,
            "object_fit": null,
            "object_position": null,
            "order": null,
            "overflow": null,
            "overflow_x": null,
            "overflow_y": null,
            "padding": null,
            "right": null,
            "top": null,
            "visibility": null,
            "width": null
          }
        },
        "65d0020d42b940baa8efd9816a967eb9": {
          "model_module": "@jupyter-widgets/controls",
          "model_name": "DescriptionStyleModel",
          "model_module_version": "1.5.0",
          "state": {
            "_model_module": "@jupyter-widgets/controls",
            "_model_module_version": "1.5.0",
            "_model_name": "DescriptionStyleModel",
            "_view_count": null,
            "_view_module": "@jupyter-widgets/base",
            "_view_module_version": "1.2.0",
            "_view_name": "StyleView",
            "description_width": ""
          }
        }
      }
    }
  },
  "cells": [
    {
      "cell_type": "markdown",
      "metadata": {
        "id": "view-in-github",
        "colab_type": "text"
      },
      "source": [
        "<a href=\"https://colab.research.google.com/github/ParkJJHH/schoolPro/blob/main/PyTorch_Tutorial.ipynb\" target=\"_parent\"><img src=\"https://colab.research.google.com/assets/colab-badge.svg\" alt=\"Open In Colab\"/></a>"
      ]
    },
    {
      "cell_type": "markdown",
      "source": [
        "# 0.빠른 시작"
      ],
      "metadata": {
        "id": "IZjO9GcIFl5Y"
      }
    },
    {
      "cell_type": "markdown",
      "source": [
        "## 데이터 작업하기"
      ],
      "metadata": {
        "id": "q7HEmJWrCBNA"
      }
    },
    {
      "cell_type": "markdown",
      "source": [
        "> 데이터 작업을 위한 기본 요소 두가지\n",
        "\n",
        "torch.utils.data.DataLoader\n",
        "\n",
        "torch.utils.data.Dataset\n",
        "\n",
        "Dataset 은 샘플과 정답(label)을 저장하고, DataLoader 는 Dataset 을 순회 가능한 객체(iterable)로 감싼다."
      ],
      "metadata": {
        "id": "w3YXTS6CCkhX"
      }
    },
    {
      "cell_type": "code",
      "execution_count": null,
      "metadata": {
        "id": "HjsRILeY7Sjg"
      },
      "outputs": [],
      "source": [
        "import torch\n",
        "from torch import nn\n",
        "from torch.utils.data import DataLoader\n",
        "from torchvision import datasets\n",
        "from torchvision.transforms import ToTensor"
      ]
    },
    {
      "cell_type": "markdown",
      "source": [
        "torchvision.datasets 모듈은 CIFAR, COCO 등과 같은 다양한 실제 비전(vision) 데이터에 대한 Dataset을 포함하고 있다. 이 튜토리얼에서는 FasionMNIST 데이터셋을 사용"
      ],
      "metadata": {
        "id": "j1aHJI7_DLhh"
      }
    },
    {
      "cell_type": "code",
      "source": [
        "# 공개 데이터셋에서 학습 데이터를 내려받습니다.\n",
        "training_data = datasets.FashionMNIST(\n",
        "    root=\"data\",\n",
        "    train=True,\n",
        "    download=True,\n",
        "    transform=ToTensor(),\n",
        ")\n",
        "\n",
        "# 공개 데이터셋에서 테스트 데이터를 내려받습니다.\n",
        "test_data = datasets.FashionMNIST(\n",
        "    root=\"data\",\n",
        "    train=False,\n",
        "    download=True,\n",
        "    transform=ToTensor(),\n",
        ")"
      ],
      "metadata": {
        "id": "Hlr_F7OHDLFs"
      },
      "execution_count": null,
      "outputs": []
    },
    {
      "cell_type": "markdown",
      "source": [
        "Dataset 을 DataLoader 의 인자로 전달한다. 이는 데이터셋을 순회 가능한 객체(iterable)로 감싸고, 자동화된 배치(batch), 샘플링(sampling), 섞기(shuffle) 및 다중 프로세스로 데이터 불러오기(multiprocess data loading)를 지원한다. 여기서는 배치 크기(batch size)를 64로 정의한다. 즉, 데이터로더(dataloader) 객체의 각 요소는 64개의 특징(feature)과 정답(label)을 묶음(batch)으로 반환한다."
      ],
      "metadata": {
        "id": "hfitikjEDkIm"
      }
    },
    {
      "cell_type": "code",
      "source": [
        "batch_size = 64\n",
        "\n",
        "# 데이터로더를 생성합니다.\n",
        "train_dataloader = DataLoader(training_data, batch_size=batch_size)\n",
        "test_dataloader = DataLoader(test_data, batch_size=batch_size)\n",
        "\n",
        "for X, y in test_dataloader:\n",
        "    print(f\"Shape of X [N, C, H, W]: {X.shape}\")\n",
        "    print(f\"Shape of y: {y.shape} {y.dtype}\")\n",
        "    break"
      ],
      "metadata": {
        "colab": {
          "base_uri": "https://localhost:8080/"
        },
        "id": "wjN53xcJDkVI",
        "outputId": "d76fb3c2-aff0-406c-f5cb-c1029f596e85"
      },
      "execution_count": null,
      "outputs": [
        {
          "output_type": "stream",
          "name": "stdout",
          "text": [
            "Shape of X [N, C, H, W]: torch.Size([64, 1, 28, 28])\n",
            "Shape of y: torch.Size([64]) torch.int64\n"
          ]
        }
      ]
    },
    {
      "cell_type": "markdown",
      "source": [
        "\n",
        "\n",
        "---\n",
        "\n"
      ],
      "metadata": {
        "id": "YDBRewEdUk_A"
      }
    },
    {
      "cell_type": "markdown",
      "source": [
        "## 모델 만들기"
      ],
      "metadata": {
        "id": "rKeVXdIRD4SY"
      }
    },
    {
      "cell_type": "markdown",
      "source": [
        "PyTorch에서 신경망 모델은 nn.Module 을 상속받는 클래스(class)를 생성하여 정의한다. __init__ 함수에서 신경망의 계층(layer)들을 정의하고 forward 함수에서 신경망에 데이터를 어떻게 전달할지 지정한다. 가능한 경우 GPU로 신경망을 이동시켜 연산을 가속(accelerate)한다."
      ],
      "metadata": {
        "id": "eAXNBA2MEBYh"
      }
    },
    {
      "cell_type": "code",
      "source": [
        "# 학습에 사용할 CPU나 GPU 장치를 얻습니다.\n",
        "device = \"cuda\" if torch.cuda.is_available() else \"cpu\"\n",
        "print(f\"Using {device} device\")\n",
        "\n",
        "# 모델을 정의합니다.\n",
        "class NeuralNetwork(nn.Module):\n",
        "    def __init__(self):\n",
        "        super(NeuralNetwork, self).__init__()\n",
        "        self.flatten = nn.Flatten()\n",
        "        self.linear_relu_stack = nn.Sequential(\n",
        "            nn.Linear(28*28, 512),\n",
        "            nn.ReLU(),\n",
        "            nn.Linear(512, 512),\n",
        "            nn.ReLU(),\n",
        "            nn.Linear(512, 10)\n",
        "        )\n",
        "\n",
        "    def forward(self, x):\n",
        "        x = self.flatten(x)\n",
        "        logits = self.linear_relu_stack(x)\n",
        "        return logits\n",
        "\n",
        "model = NeuralNetwork().to(device)\n",
        "print(model)"
      ],
      "metadata": {
        "colab": {
          "base_uri": "https://localhost:8080/"
        },
        "id": "_OqPVNOZEKzy",
        "outputId": "bf5fe2a6-2c6c-4f87-d3da-5fe633532575"
      },
      "execution_count": null,
      "outputs": [
        {
          "output_type": "stream",
          "name": "stdout",
          "text": [
            "Using cpu device\n",
            "NeuralNetwork(\n",
            "  (flatten): Flatten(start_dim=1, end_dim=-1)\n",
            "  (linear_relu_stack): Sequential(\n",
            "    (0): Linear(in_features=784, out_features=512, bias=True)\n",
            "    (1): ReLU()\n",
            "    (2): Linear(in_features=512, out_features=512, bias=True)\n",
            "    (3): ReLU()\n",
            "    (4): Linear(in_features=512, out_features=10, bias=True)\n",
            "  )\n",
            ")\n"
          ]
        }
      ]
    },
    {
      "cell_type": "markdown",
      "source": [
        "\n",
        "\n",
        "---\n",
        "\n"
      ],
      "metadata": {
        "id": "mme8KtpAUn97"
      }
    },
    {
      "cell_type": "markdown",
      "source": [
        "## 모델 매개변수 최적화하기"
      ],
      "metadata": {
        "id": "g-EgPAujEN6J"
      }
    },
    {
      "cell_type": "markdown",
      "source": [
        "델을 학습하려면 손실 함수(loss function) 와 옵티마이저(optimizer) 가 필요"
      ],
      "metadata": {
        "id": "0oFlxB9EEgD_"
      }
    },
    {
      "cell_type": "code",
      "source": [
        "loss_fn = nn.CrossEntropyLoss()\n",
        "optimizer = torch.optim.SGD(model.parameters(), lr=1e-3)"
      ],
      "metadata": {
        "id": "k_18TcoQESiW"
      },
      "execution_count": null,
      "outputs": []
    },
    {
      "cell_type": "markdown",
      "source": [
        "각 학습 단계(training loop)에서 모델은 (배치(batch)로 제공되는) 학습 데이터셋에 대한 예측을 수행하고, 예측 오류를 역전파하여 모델의 매개변수를 조정"
      ],
      "metadata": {
        "id": "xV7F5p4nElBd"
      }
    },
    {
      "cell_type": "code",
      "source": [
        "def train(dataloader, model, loss_fn, optimizer):\n",
        "    size = len(dataloader.dataset)\n",
        "    for batch, (X, y) in enumerate(dataloader):\n",
        "        X, y = X.to(device), y.to(device)\n",
        "\n",
        "        # 예측 오류 계산\n",
        "        pred = model(X)\n",
        "        loss = loss_fn(pred, y)\n",
        "\n",
        "        # 역전파\n",
        "        optimizer.zero_grad()\n",
        "        loss.backward()\n",
        "        optimizer.step()\n",
        "\n",
        "        if batch % 100 == 0:\n",
        "            loss, current = loss.item(), batch * len(X)\n",
        "            print(f\"loss: {loss:>7f}  [{current:>5d}/{size:>5d}]\")"
      ],
      "metadata": {
        "id": "Mz7imYtMElOo"
      },
      "execution_count": null,
      "outputs": []
    },
    {
      "cell_type": "code",
      "source": [
        "def test(dataloader, model, loss_fn):\n",
        "    size = len(dataloader.dataset)\n",
        "    num_batches = len(dataloader)\n",
        "    model.eval()\n",
        "    test_loss, correct = 0, 0\n",
        "    with torch.no_grad():\n",
        "        for X, y in dataloader:\n",
        "            X, y = X.to(device), y.to(device)\n",
        "            pred = model(X)\n",
        "            test_loss += loss_fn(pred, y).item()\n",
        "            correct += (pred.argmax(1) == y).type(torch.float).sum().item()\n",
        "    test_loss /= num_batches\n",
        "    correct /= size\n",
        "    print(f\"Test Error: \\n Accuracy: {(100*correct):>0.1f}%, Avg loss: {test_loss:>8f} \\n\")"
      ],
      "metadata": {
        "id": "nhsogeNqErAW"
      },
      "execution_count": null,
      "outputs": []
    },
    {
      "cell_type": "markdown",
      "source": [
        "학습 단계는 여러번의 반복 단계 (에폭(epochs)) 를 거쳐서 수행된다. 각 에폭에서는 모델은 더 나은 예측을 하기 위해 매개변수를 학습한다. 각 에폭마다 모델의 정확도(accuracy)와 손실(loss)을 출력한다; 에폭마다 정확도가 증가하고 손실이 감소하는 것을 확인한다."
      ],
      "metadata": {
        "id": "coJRdSgDEtpA"
      }
    },
    {
      "cell_type": "code",
      "source": [
        "epochs = 5\n",
        "for t in range(epochs):\n",
        "    print(f\"Epoch {t+1}\\n-------------------------------\")\n",
        "    train(train_dataloader, model, loss_fn, optimizer)\n",
        "    test(test_dataloader, model, loss_fn)\n",
        "print(\"Done!\")"
      ],
      "metadata": {
        "colab": {
          "base_uri": "https://localhost:8080/"
        },
        "id": "CAbQ5VrqE2gS",
        "outputId": "f325ae61-7e4f-4b49-9079-d5dcc3308bd5"
      },
      "execution_count": null,
      "outputs": [
        {
          "output_type": "stream",
          "name": "stdout",
          "text": [
            "Epoch 1\n",
            "-------------------------------\n",
            "loss: 2.299730  [    0/60000]\n",
            "loss: 2.291341  [ 6400/60000]\n",
            "loss: 2.274522  [12800/60000]\n",
            "loss: 2.275568  [19200/60000]\n",
            "loss: 2.237488  [25600/60000]\n",
            "loss: 2.223000  [32000/60000]\n",
            "loss: 2.227885  [38400/60000]\n",
            "loss: 2.192380  [44800/60000]\n",
            "loss: 2.191580  [51200/60000]\n",
            "loss: 2.166183  [57600/60000]\n",
            "Test Error: \n",
            " Accuracy: 44.8%, Avg loss: 2.155251 \n",
            "\n",
            "Epoch 2\n",
            "-------------------------------\n",
            "loss: 2.171917  [    0/60000]\n",
            "loss: 2.154410  [ 6400/60000]\n",
            "loss: 2.101138  [12800/60000]\n",
            "loss: 2.119461  [19200/60000]\n",
            "loss: 2.038335  [25600/60000]\n",
            "loss: 2.004910  [32000/60000]\n",
            "loss: 2.025089  [38400/60000]\n",
            "loss: 1.946552  [44800/60000]\n",
            "loss: 1.963472  [51200/60000]\n",
            "loss: 1.887447  [57600/60000]\n",
            "Test Error: \n",
            " Accuracy: 52.8%, Avg loss: 1.880362 \n",
            "\n",
            "Epoch 3\n",
            "-------------------------------\n",
            "loss: 1.933565  [    0/60000]\n",
            "loss: 1.884882  [ 6400/60000]\n",
            "loss: 1.777013  [12800/60000]\n",
            "loss: 1.815575  [19200/60000]\n",
            "loss: 1.667556  [25600/60000]\n",
            "loss: 1.660512  [32000/60000]\n",
            "loss: 1.674573  [38400/60000]\n",
            "loss: 1.582106  [44800/60000]\n",
            "loss: 1.611115  [51200/60000]\n",
            "loss: 1.503484  [57600/60000]\n",
            "Test Error: \n",
            " Accuracy: 58.2%, Avg loss: 1.515370 \n",
            "\n",
            "Epoch 4\n",
            "-------------------------------\n",
            "loss: 1.606843  [    0/60000]\n",
            "loss: 1.548544  [ 6400/60000]\n",
            "loss: 1.409320  [12800/60000]\n",
            "loss: 1.472454  [19200/60000]\n",
            "loss: 1.325307  [25600/60000]\n",
            "loss: 1.361054  [32000/60000]\n",
            "loss: 1.362072  [38400/60000]\n",
            "loss: 1.294808  [44800/60000]\n",
            "loss: 1.323871  [51200/60000]\n",
            "loss: 1.226646  [57600/60000]\n",
            "Test Error: \n",
            " Accuracy: 62.0%, Avg loss: 1.248062 \n",
            "\n",
            "Epoch 5\n",
            "-------------------------------\n",
            "loss: 1.344073  [    0/60000]\n",
            "loss: 1.307202  [ 6400/60000]\n",
            "loss: 1.148661  [12800/60000]\n",
            "loss: 1.250001  [19200/60000]\n",
            "loss: 1.104158  [25600/60000]\n",
            "loss: 1.160479  [32000/60000]\n",
            "loss: 1.170902  [38400/60000]\n",
            "loss: 1.114099  [44800/60000]\n",
            "loss: 1.146804  [51200/60000]\n",
            "loss: 1.067546  [57600/60000]\n",
            "Test Error: \n",
            " Accuracy: 64.1%, Avg loss: 1.084732 \n",
            "\n",
            "Done!\n"
          ]
        }
      ]
    },
    {
      "cell_type": "markdown",
      "source": [
        "\n",
        "\n",
        "---\n",
        "\n"
      ],
      "metadata": {
        "id": "9P4KazC6Ur5y"
      }
    },
    {
      "cell_type": "markdown",
      "source": [
        "## 모델 저장하기"
      ],
      "metadata": {
        "id": "eBZIOwoXE8QZ"
      }
    },
    {
      "cell_type": "markdown",
      "source": [
        "모델을 저장하는 일반적인 방법은 (모델의 매개변수들을 포함하여) 내부 상태 사전(internal state dictionary)을 직렬화(serialize)하는 것"
      ],
      "metadata": {
        "id": "bMuG7SrsFLkE"
      }
    },
    {
      "cell_type": "code",
      "source": [
        "torch.save(model.state_dict(), \"model.pth\")\n",
        "print(\"Saved PyTorch Model State to model.pth\")"
      ],
      "metadata": {
        "colab": {
          "base_uri": "https://localhost:8080/"
        },
        "id": "NtgJa4ZGFLHJ",
        "outputId": "1a7ce047-46ce-422f-dcf3-37fc0d480ea8"
      },
      "execution_count": null,
      "outputs": [
        {
          "output_type": "stream",
          "name": "stdout",
          "text": [
            "Saved PyTorch Model State to model.pth\n"
          ]
        }
      ]
    },
    {
      "cell_type": "markdown",
      "source": [
        "## 모델 불러오기"
      ],
      "metadata": {
        "id": "PW6gJ_9hFPnj"
      }
    },
    {
      "cell_type": "markdown",
      "source": [
        "모델을 불러오는 과정에는 모델 구조를 다시 만들고 상태 사전을 모델에 불러오는 과정이 포함"
      ],
      "metadata": {
        "id": "3UDlXtTOFSOL"
      }
    },
    {
      "cell_type": "code",
      "source": [
        "model = NeuralNetwork()\n",
        "model.load_state_dict(torch.load(\"model.pth\"))"
      ],
      "metadata": {
        "colab": {
          "base_uri": "https://localhost:8080/"
        },
        "id": "iZCR03EoFSdQ",
        "outputId": "8b7475d3-56f7-48dd-8ae0-0bcc13f4d710"
      },
      "execution_count": null,
      "outputs": [
        {
          "output_type": "execute_result",
          "data": {
            "text/plain": [
              "<All keys matched successfully>"
            ]
          },
          "metadata": {},
          "execution_count": 11
        }
      ]
    },
    {
      "cell_type": "code",
      "source": [
        "classes = [\n",
        "    \"T-shirt/top\",\n",
        "    \"Trouser\",\n",
        "    \"Pullover\",\n",
        "    \"Dress\",\n",
        "    \"Coat\",\n",
        "    \"Sandal\",\n",
        "    \"Shirt\",\n",
        "    \"Sneaker\",\n",
        "    \"Bag\",\n",
        "    \"Ankle boot\",\n",
        "]\n",
        "\n",
        "model.eval()\n",
        "x, y = test_data[0][0], test_data[0][1]\n",
        "with torch.no_grad():\n",
        "    pred = model(x)\n",
        "    predicted, actual = classes[pred[0].argmax(0)], classes[y]\n",
        "    print(f'Predicted: \"{predicted}\", Actual: \"{actual}\"')"
      ],
      "metadata": {
        "colab": {
          "base_uri": "https://localhost:8080/"
        },
        "id": "OOXt6zOmFe64",
        "outputId": "4c2d8c75-81e6-40f6-c693-8216ae0b2794"
      },
      "execution_count": null,
      "outputs": [
        {
          "output_type": "stream",
          "name": "stdout",
          "text": [
            "Predicted: \"Ankle boot\", Actual: \"Ankle boot\"\n"
          ]
        }
      ]
    },
    {
      "cell_type": "markdown",
      "source": [
        "# 1.텐서(Tensor)"
      ],
      "metadata": {
        "id": "zgW_ii7HFwls"
      }
    },
    {
      "cell_type": "markdown",
      "source": [
        "텐서(tensor)는 배열(array)이나 행렬(matrix)과 매우 유사한 특수한 자료구조이다. PyTorch에서는 텐서를 사용하여 모델의 입력(input)과 출력(output), 그리고 모델의 매개변수들을 부호화(encode)한다."
      ],
      "metadata": {
        "id": "JGpse7fyF7d7"
      }
    },
    {
      "cell_type": "code",
      "source": [
        "import torch\n",
        "import numpy as np"
      ],
      "metadata": {
        "id": "vsJeOw1oGf9e"
      },
      "execution_count": null,
      "outputs": []
    },
    {
      "cell_type": "markdown",
      "source": [
        "## 텐서 초기화"
      ],
      "metadata": {
        "id": "0ORZz_vKGid_"
      }
    },
    {
      "cell_type": "markdown",
      "source": [
        "**데이터로부터 직접(directly) 생성하기**\n",
        "\n",
        "데이터로부터 직접 텐서를 생성할 수 있습니다. 데이터의 자료형(data type)은 자동으로 유추"
      ],
      "metadata": {
        "id": "yaheWAZhHrrx"
      }
    },
    {
      "cell_type": "code",
      "source": [
        "data = [[1, 2],[3, 4]]\n",
        "x_data = torch.tensor(data)"
      ],
      "metadata": {
        "id": "KJopTw-UHvZD"
      },
      "execution_count": null,
      "outputs": []
    },
    {
      "cell_type": "markdown",
      "source": [
        "**NumPy 배열로부터 생성하기**\n",
        "\n",
        "텐서는 NumPy 배열로 생성할 수 있다. (그 반대도 가능)"
      ],
      "metadata": {
        "id": "ndZ9aPpIGnry"
      }
    },
    {
      "cell_type": "code",
      "source": [
        "np_array = np.array(data)\n",
        "x_np = torch.from_numpy(np_array)"
      ],
      "metadata": {
        "id": "x3vwPrXDGrfa"
      },
      "execution_count": null,
      "outputs": []
    },
    {
      "cell_type": "markdown",
      "source": [
        "**다른 텐서로부터 생성하기:**\n",
        "\n",
        "명시적으로 재정의(override)하지 않는다면, 인자로 주어진 텐서의 속성(모양(shape), 자료형(datatype))을 유지"
      ],
      "metadata": {
        "id": "rQo-hdfLGtHl"
      }
    },
    {
      "cell_type": "code",
      "source": [
        "x_ones = torch.ones_like(x_data) # x_data의 속성을 유지합니다.\n",
        "print(f\"Ones Tensor: \\n {x_ones} \\n\")\n",
        "\n",
        "x_rand = torch.rand_like(x_data, dtype=torch.float) # x_data의 속성을 덮어씁니다.\n",
        "print(f\"Random Tensor: \\n {x_rand} \\n\")"
      ],
      "metadata": {
        "colab": {
          "base_uri": "https://localhost:8080/"
        },
        "id": "l-znqhj-G3pi",
        "outputId": "5a109eef-1ec4-459e-f359-137165622cb9"
      },
      "execution_count": null,
      "outputs": [
        {
          "output_type": "stream",
          "name": "stdout",
          "text": [
            "Ones Tensor: \n",
            " tensor([[1, 1],\n",
            "        [1, 1]]) \n",
            "\n",
            "Random Tensor: \n",
            " tensor([[0.5213, 0.5776],\n",
            "        [0.5325, 0.7001]]) \n",
            "\n"
          ]
        }
      ]
    },
    {
      "cell_type": "markdown",
      "source": [
        "**무작위(random) 또는 상수(constant) 값을 사용하기:**\n",
        "\n",
        "shape 은 텐서의 차원(dimension)을 나타내는 튜플(tuple)로, 아래 함수들에서는 출력 텐서의 차원을 결정"
      ],
      "metadata": {
        "id": "FX3A7mwQH9jg"
      }
    },
    {
      "cell_type": "code",
      "source": [
        "shape = (2,3,)\n",
        "rand_tensor = torch.rand(shape)\n",
        "ones_tensor = torch.ones(shape)\n",
        "zeros_tensor = torch.zeros(shape)\n",
        "\n",
        "print(f\"Random Tensor: \\n {rand_tensor} \\n\")\n",
        "print(f\"Ones Tensor: \\n {ones_tensor} \\n\")\n",
        "print(f\"Zeros Tensor: \\n {zeros_tensor}\")"
      ],
      "metadata": {
        "colab": {
          "base_uri": "https://localhost:8080/"
        },
        "id": "wKH_ZDUXH_lc",
        "outputId": "8d491635-fa98-408f-860a-7553a98bbf03"
      },
      "execution_count": null,
      "outputs": [
        {
          "output_type": "stream",
          "name": "stdout",
          "text": [
            "Random Tensor: \n",
            " tensor([[0.0912, 0.6091, 0.1654],\n",
            "        [0.2489, 0.5076, 0.1714]]) \n",
            "\n",
            "Ones Tensor: \n",
            " tensor([[1., 1., 1.],\n",
            "        [1., 1., 1.]]) \n",
            "\n",
            "Zeros Tensor: \n",
            " tensor([[0., 0., 0.],\n",
            "        [0., 0., 0.]])\n"
          ]
        }
      ]
    },
    {
      "cell_type": "markdown",
      "source": [
        "\n",
        "\n",
        "---\n",
        "\n"
      ],
      "metadata": {
        "id": "XQX3lbVxU5If"
      }
    },
    {
      "cell_type": "markdown",
      "source": [
        "## 텐서의 속성(Attribute)"
      ],
      "metadata": {
        "id": "IhG6TEJsIBsx"
      }
    },
    {
      "cell_type": "markdown",
      "source": [
        "텐서의 속성은 텐서의 모양(shape), 자료형(datatype) 및 어느 장치에 저장되는지를 나타낸다."
      ],
      "metadata": {
        "id": "Xr9Cj_QCIF6a"
      }
    },
    {
      "cell_type": "code",
      "source": [
        "tensor = torch.rand(3,4)\n",
        "\n",
        "print(f\"Shape of tensor: {tensor.shape}\")\n",
        "print(f\"Datatype of tensor: {tensor.dtype}\")\n",
        "print(f\"Device tensor is stored on: {tensor.device}\")"
      ],
      "metadata": {
        "colab": {
          "base_uri": "https://localhost:8080/"
        },
        "id": "eXG52NTtIINA",
        "outputId": "3d6a191b-ecdd-4d9e-e0ad-6bcabf25e90e"
      },
      "execution_count": null,
      "outputs": [
        {
          "output_type": "stream",
          "name": "stdout",
          "text": [
            "Shape of tensor: torch.Size([3, 4])\n",
            "Datatype of tensor: torch.float32\n",
            "Device tensor is stored on: cpu\n"
          ]
        }
      ]
    },
    {
      "cell_type": "markdown",
      "source": [
        "\n",
        "\n",
        "---\n",
        "\n"
      ],
      "metadata": {
        "id": "VwgxozaAU8rF"
      }
    },
    {
      "cell_type": "markdown",
      "source": [
        "## 텐서 연산(Operation)"
      ],
      "metadata": {
        "id": "ysFXF-RNIJ96"
      }
    },
    {
      "cell_type": "code",
      "source": [
        "# GPU가 존재하면 텐서를 이동합니다\n",
        "if torch.cuda.is_available():\n",
        "    tensor = tensor.to(\"cuda\")"
      ],
      "metadata": {
        "id": "Dje5OnKTINfu"
      },
      "execution_count": null,
      "outputs": []
    },
    {
      "cell_type": "markdown",
      "source": [
        "**NumPy식의 표준 인덱싱과 슬라이싱:**"
      ],
      "metadata": {
        "id": "6Vq1vvYQIN3e"
      }
    },
    {
      "cell_type": "code",
      "source": [
        "tensor = torch.ones(4, 4)\n",
        "print(f\"First row: {tensor[0]}\")\n",
        "print(f\"First column: {tensor[:, 0]}\")\n",
        "print(f\"Last column: {tensor[..., -1]}\")\n",
        "tensor[:,1] = 0\n",
        "print(tensor)"
      ],
      "metadata": {
        "colab": {
          "base_uri": "https://localhost:8080/"
        },
        "id": "RhlvVUOEIbDz",
        "outputId": "148eff40-5eba-41bb-b55a-e715ea145b57"
      },
      "execution_count": null,
      "outputs": [
        {
          "output_type": "stream",
          "name": "stdout",
          "text": [
            "First row: tensor([1., 1., 1., 1.])\n",
            "First column: tensor([1., 1., 1., 1.])\n",
            "Last column: tensor([1., 1., 1., 1.])\n",
            "tensor([[1., 0., 1., 1.],\n",
            "        [1., 0., 1., 1.],\n",
            "        [1., 0., 1., 1.],\n",
            "        [1., 0., 1., 1.]])\n"
          ]
        }
      ]
    },
    {
      "cell_type": "markdown",
      "source": [
        "텐서 합치기 torch.cat 을 사용하여 주어진 차원에 따라 일련의 텐서를 연결할 수 있다."
      ],
      "metadata": {
        "id": "DcVNaELsIdCy"
      }
    },
    {
      "cell_type": "code",
      "source": [
        "t1 = torch.cat([tensor, tensor, tensor], dim=1)\n",
        "print(t1)"
      ],
      "metadata": {
        "colab": {
          "base_uri": "https://localhost:8080/"
        },
        "id": "WdvLPZi0Ig-u",
        "outputId": "cb2b4d0c-7131-4dd1-b6de-89e3a606a957"
      },
      "execution_count": null,
      "outputs": [
        {
          "output_type": "stream",
          "name": "stdout",
          "text": [
            "tensor([[1., 0., 1., 1., 1., 0., 1., 1., 1., 0., 1., 1.],\n",
            "        [1., 0., 1., 1., 1., 0., 1., 1., 1., 0., 1., 1.],\n",
            "        [1., 0., 1., 1., 1., 0., 1., 1., 1., 0., 1., 1.],\n",
            "        [1., 0., 1., 1., 1., 0., 1., 1., 1., 0., 1., 1.]])\n"
          ]
        }
      ]
    },
    {
      "cell_type": "markdown",
      "source": [
        "**산술 연산(Arithmetic operations)**"
      ],
      "metadata": {
        "id": "Vh1xgeqqIimb"
      }
    },
    {
      "cell_type": "code",
      "source": [
        "# 두 텐서 간의 행렬 곱(matrix multiplication)을 계산합니다. y1, y2, y3은 모두 같은 값을 갖습니다.\n",
        "y1 = tensor @ tensor.T\n",
        "y2 = tensor.matmul(tensor.T)\n",
        "\n",
        "y3 = torch.rand_like(y1)\n",
        "torch.matmul(tensor, tensor.T, out=y3)\n",
        "\n",
        "\n",
        "# 요소별 곱(element-wise product)을 계산합니다. z1, z2, z3는 모두 같은 값을 갖습니다.\n",
        "z1 = tensor * tensor\n",
        "z2 = tensor.mul(tensor)\n",
        "\n",
        "z3 = torch.rand_like(tensor)\n",
        "torch.mul(tensor, tensor, out=z3)"
      ],
      "metadata": {
        "colab": {
          "base_uri": "https://localhost:8080/"
        },
        "id": "AbCf1pIcIkkF",
        "outputId": "a117867b-224d-4f32-b467-0878cd8b4352"
      },
      "execution_count": null,
      "outputs": [
        {
          "output_type": "execute_result",
          "data": {
            "text/plain": [
              "tensor([[1., 0., 1., 1.],\n",
              "        [1., 0., 1., 1.],\n",
              "        [1., 0., 1., 1.],\n",
              "        [1., 0., 1., 1.]])"
            ]
          },
          "metadata": {},
          "execution_count": 61
        }
      ]
    },
    {
      "cell_type": "markdown",
      "source": [
        "**단일-요소(single-element) 텐서** 텐서의 모든 값을 하나로 집계(aggregate)하여 요소가 하나인 텐서의 경우, item() 을 사용하여 Python 숫자 값으로 변환할 수 있다:"
      ],
      "metadata": {
        "id": "kaWjlHrEImAF"
      }
    },
    {
      "cell_type": "code",
      "source": [
        "agg = tensor.sum()\n",
        "agg_item = agg.item()\n",
        "print(agg_item, type(agg_item))"
      ],
      "metadata": {
        "colab": {
          "base_uri": "https://localhost:8080/"
        },
        "id": "aXsOVagRIuRV",
        "outputId": "d1e9b161-37bc-421f-9a15-4ca3b96803bc"
      },
      "execution_count": null,
      "outputs": [
        {
          "output_type": "stream",
          "name": "stdout",
          "text": [
            "12.0 <class 'float'>\n"
          ]
        }
      ]
    },
    {
      "cell_type": "markdown",
      "source": [
        "**바꿔치기(in-place) 연산** 연산 결과를 피연산자(operand)에 저장하는 연산을 바꿔치기 연산이라고 부르며, _ 접미사를 갖는다. 예를 들어: x.copy_(y) 나 x.t_() 는 x 를 변경한다."
      ],
      "metadata": {
        "id": "KB8N7Z17Iwwl"
      }
    },
    {
      "cell_type": "code",
      "source": [
        "print(f\"{tensor} \\n\")\n",
        "tensor.add_(5)\n",
        "print(tensor)"
      ],
      "metadata": {
        "colab": {
          "base_uri": "https://localhost:8080/"
        },
        "id": "r_yRSb2uJFr-",
        "outputId": "c095be19-94b5-4521-c0b0-93d18c0b8dba"
      },
      "execution_count": null,
      "outputs": [
        {
          "output_type": "stream",
          "name": "stdout",
          "text": [
            "tensor([[1., 0., 1., 1.],\n",
            "        [1., 0., 1., 1.],\n",
            "        [1., 0., 1., 1.],\n",
            "        [1., 0., 1., 1.]]) \n",
            "\n",
            "tensor([[6., 5., 6., 6.],\n",
            "        [6., 5., 6., 6.],\n",
            "        [6., 5., 6., 6.],\n",
            "        [6., 5., 6., 6.]])\n"
          ]
        }
      ]
    },
    {
      "cell_type": "markdown",
      "source": [
        "** 바꿔치기 연산은 메모리를 일부 절약하지만, 기록(history)이 즉시 삭제되어 도함수(derivative) 계산에 문제가 발생할 수 있으므로 사용을 권장하지 않는다."
      ],
      "metadata": {
        "id": "ncAZUvYVJKAS"
      }
    },
    {
      "cell_type": "markdown",
      "source": [
        "\n",
        "\n",
        "---\n",
        "\n"
      ],
      "metadata": {
        "id": "Hd6kEffGU_-M"
      }
    },
    {
      "cell_type": "markdown",
      "source": [
        "## NumPy 변환(Bridge)"
      ],
      "metadata": {
        "id": "3LTu73ZVJQya"
      }
    },
    {
      "cell_type": "markdown",
      "source": [
        "CPU 상의 텐서와 NumPy 배열은 메모리 공간을 공유하기 때문에, 하나를 변경하면 다른 하나도 변경된다."
      ],
      "metadata": {
        "id": "PBuPACwmJZP2"
      }
    },
    {
      "cell_type": "markdown",
      "source": [
        "### 텐서를 NumPy 배열로 변환하기"
      ],
      "metadata": {
        "id": "k7UYJLtDJdEv"
      }
    },
    {
      "cell_type": "code",
      "source": [
        "t = torch.ones(5)\n",
        "print(f\"t: {t}\")\n",
        "n = t.numpy()\n",
        "print(f\"n: {n}\")"
      ],
      "metadata": {
        "colab": {
          "base_uri": "https://localhost:8080/"
        },
        "id": "n2_3NLfXJbZ2",
        "outputId": "3c1c88cc-abaa-41d4-e4ed-e4768c6ec7d8"
      },
      "execution_count": null,
      "outputs": [
        {
          "output_type": "stream",
          "name": "stdout",
          "text": [
            "t: tensor([1., 1., 1., 1., 1.])\n",
            "n: [1. 1. 1. 1. 1.]\n"
          ]
        }
      ]
    },
    {
      "cell_type": "markdown",
      "source": [
        "텐서의 변경 사항이 NumPy 배열에 반영"
      ],
      "metadata": {
        "id": "t2CUBAnmJoB5"
      }
    },
    {
      "cell_type": "code",
      "source": [
        "t.add_(1)\n",
        "print(f\"t: {t}\")\n",
        "print(f\"n: {n}\")"
      ],
      "metadata": {
        "colab": {
          "base_uri": "https://localhost:8080/"
        },
        "id": "Et22UpcQJrZR",
        "outputId": "b9a91733-1e79-4d2d-cde5-ded675f0f798"
      },
      "execution_count": null,
      "outputs": [
        {
          "output_type": "stream",
          "name": "stdout",
          "text": [
            "t: tensor([2., 2., 2., 2., 2.])\n",
            "n: [2. 2. 2. 2. 2.]\n"
          ]
        }
      ]
    },
    {
      "cell_type": "markdown",
      "source": [
        "### NumPy 배열을 텐서로 변환하기"
      ],
      "metadata": {
        "id": "mGIQYPEBJw3K"
      }
    },
    {
      "cell_type": "code",
      "source": [
        "n = np.ones(5)\n",
        "t = torch.from_numpy(n)"
      ],
      "metadata": {
        "id": "lhhmeUxWJ0jj"
      },
      "execution_count": null,
      "outputs": []
    },
    {
      "cell_type": "markdown",
      "source": [
        "NumPy 배열의 변경 사항이 텐서에 반영"
      ],
      "metadata": {
        "id": "HS3oP1PJJ17v"
      }
    },
    {
      "cell_type": "code",
      "source": [
        "np.add(n, 1, out=n)\n",
        "print(f\"t: {t}\")\n",
        "print(f\"n: {n}\")"
      ],
      "metadata": {
        "colab": {
          "base_uri": "https://localhost:8080/"
        },
        "id": "-loXV8-HJ4N8",
        "outputId": "f3bb34f8-8389-4059-a109-e4bed05a38ce"
      },
      "execution_count": null,
      "outputs": [
        {
          "output_type": "stream",
          "name": "stdout",
          "text": [
            "t: tensor([2., 2., 2., 2., 2.], dtype=torch.float64)\n",
            "n: [2. 2. 2. 2. 2.]\n"
          ]
        }
      ]
    },
    {
      "cell_type": "markdown",
      "source": [
        "# 2.DATASET과 DATALOADER"
      ],
      "metadata": {
        "id": "YMokuJtqJ9x2"
      }
    },
    {
      "cell_type": "markdown",
      "source": [
        "더 나은 가독성(readability)과 모듈성(modularity)을 위해 데이터셋 코드를 모델 학습 코드로부터 분리하는 것이 이상적이다. PyTorch는 torch.utils.data.DataLoader 와 torch.utils.data.Dataset 의 두 가지 데이터 기본 요소를 제공하여 미리 준비해둔(pre-loaded) 데이터셋 뿐만 아니라 가지고 있는 데이터를 사용할 수 있도록 한다. Dataset 은 샘플과 정답(label)을 저장하고, DataLoader 는 Dataset 을 샘플에 쉽게 접근할 수 있도록 순회 가능한 객체(iterable)로 감싼다."
      ],
      "metadata": {
        "id": "Qg1EaE0RLRhm"
      }
    },
    {
      "cell_type": "markdown",
      "source": [
        "PyTorch의 도메인 특화 라이브러리들은 (FashionMNIST와 같은) 미리 준비해둔(pre-loaded) 다양한 데이터셋을 제공한다. 데이터셋은 torch.utils.data.Dataset 의 하위 클래스로 개별 데이터를 특정하는 함수가 구현되어 있다. 이러한 데이터셋은 모델을 만들어보고(prototype) 성능을 측정(benchmark)하는데 사용할 수 있다."
      ],
      "metadata": {
        "id": "Skk0UOd6MMCY"
      }
    },
    {
      "cell_type": "markdown",
      "source": [
        "## 데이터셋 불러오기"
      ],
      "metadata": {
        "id": "kYDX9fb4MQ__"
      }
    },
    {
      "cell_type": "markdown",
      "source": [
        "TorchVision 에서 Fashion-MNIST 데이터셋을 불러오는 예제"
      ],
      "metadata": {
        "id": "54s9OcE4MZfP"
      }
    },
    {
      "cell_type": "markdown",
      "source": [
        " Fashion-MNIST는 Zalando의 기사 이미지 데이터셋으로 60,000개의 학습 예제와 10,000개의 테스트 예제로 이루어져 있다. 각 예제는 흑백(grayscale)의 28x28 이미지와 10개 분류(class) 중 하나인 정답(label)으로 구성된다."
      ],
      "metadata": {
        "id": "6WybdTqeMUcG"
      }
    },
    {
      "cell_type": "markdown",
      "source": [
        "다음 매개변수들을 사용하여 FashionMNIST 데이터셋 을 불러옵니다:\n",
        "root 는 학습/테스트 데이터가 저장되는 경로이다.\n",
        "\n",
        "* train 은 학습용 또는 테스트용 데이터셋 여부를 지정\n",
        "\n",
        "* download=True 는 root 에 데이터가 없는 경우 인터넷에서 다운로드\n",
        "\n",
        "* transform 과 target_transform 은 특징(feature)과 정답(label) 변형(transform)을 지정"
      ],
      "metadata": {
        "id": "QNr_1tChMgRI"
      }
    },
    {
      "cell_type": "code",
      "source": [
        "import torch\n",
        "from torch.utils.data import Dataset\n",
        "from torchvision import datasets\n",
        "from torchvision.transforms import ToTensor\n",
        "import matplotlib.pyplot as plt\n",
        "\n",
        "\n",
        "training_data = datasets.FashionMNIST(\n",
        "    root=\"data\",\n",
        "    train=True,\n",
        "    download=True,\n",
        "    transform=ToTensor()\n",
        ")\n",
        "\n",
        "test_data = datasets.FashionMNIST(\n",
        "    root=\"data\",\n",
        "    train=False,\n",
        "    download=True,\n",
        "    transform=ToTensor()\n",
        ")"
      ],
      "metadata": {
        "id": "i8hkNiidMeyt"
      },
      "execution_count": null,
      "outputs": []
    },
    {
      "cell_type": "markdown",
      "source": [
        "## 데이터셋을 순회하고 시각화하기"
      ],
      "metadata": {
        "id": "9d2QXM6qMtAR"
      }
    },
    {
      "cell_type": "markdown",
      "source": [
        "Dataset 에 리스트(list)처럼 직접 접근(index)할 수 있다: training_data[index]. matplotlib 을 사용하여 학습 데이터의 일부를 시각화."
      ],
      "metadata": {
        "id": "BhiWb7x-Mv0i"
      }
    },
    {
      "cell_type": "code",
      "source": [
        "labels_map = {\n",
        "    0: \"T-Shirt\",\n",
        "    1: \"Trouser\",\n",
        "    2: \"Pullover\",\n",
        "    3: \"Dress\",\n",
        "    4: \"Coat\",\n",
        "    5: \"Sandal\",\n",
        "    6: \"Shirt\",\n",
        "    7: \"Sneaker\",\n",
        "    8: \"Bag\",\n",
        "    9: \"Ankle Boot\",\n",
        "}\n",
        "figure = plt.figure(figsize=(8, 8))\n",
        "cols, rows = 3, 3\n",
        "for i in range(1, cols * rows + 1):\n",
        "    sample_idx = torch.randint(len(training_data), size=(1,)).item()\n",
        "    img, label = training_data[sample_idx]\n",
        "    figure.add_subplot(rows, cols, i)\n",
        "    plt.title(labels_map[label])\n",
        "    plt.axis(\"off\")\n",
        "    plt.imshow(img.squeeze(), cmap=\"gray\")\n",
        "plt.show()"
      ],
      "metadata": {
        "colab": {
          "base_uri": "https://localhost:8080/",
          "height": 482
        },
        "id": "dn8p4WjPMynL",
        "outputId": "f6bb7061-7ad3-4443-9cea-681f919cf908"
      },
      "execution_count": null,
      "outputs": [
        {
          "output_type": "display_data",
          "data": {
            "text/plain": [
              "<Figure size 576x576 with 9 Axes>"
            ],
            "image/png": "[encoded data removed]"
          },
          "metadata": {
            "needs_background": "light"
          }
        }
      ]
    },
    {
      "cell_type": "markdown",
      "source": [
        "\n",
        "\n",
        "---\n",
        "\n"
      ],
      "metadata": {
        "id": "pYd5Vw4tVPtq"
      }
    },
    {
      "cell_type": "markdown",
      "source": [
        "## 파일에서 사용자 정의 데이터셋 만들기"
      ],
      "metadata": {
        "id": "JMFkfDE3M3la"
      }
    },
    {
      "cell_type": "markdown",
      "source": [],
      "metadata": {
        "id": "N3k4VqezVQXu"
      }
    },
    {
      "cell_type": "markdown",
      "source": [
        "사용자 정의 Dataset 클래스는 반드시 3개 함수를 구현해야 한다: ___int__, __len__, and __getitem__ (아래 구현을 살펴보면 FashionMNIST 이미지들은 img_dir 디렉토리에 저장되고, 정답은 annotations_file csv 파일에 별도로 저장)"
      ],
      "metadata": {
        "id": "6gDsc8ZfM7jW"
      }
    },
    {
      "cell_type": "code",
      "source": [
        "import os\n",
        "import pandas as pd\n",
        "from torchvision.io import read_image\n",
        "\n",
        "class CustomImageDataset(Dataset):\n",
        "    def __init__(self, annotations_file, img_dir, transform=None, target_transform=None):\n",
        "        self.img_labels = pd.read_csv(annotations_file, names=['file_name', 'label'])\n",
        "        self.img_dir = img_dir\n",
        "        self.transform = transform\n",
        "        self.target_transform = target_transform\n",
        "\n",
        "    def __len__(self):\n",
        "        return len(self.img_labels)\n",
        "\n",
        "    def __getitem__(self, idx):\n",
        "        img_path = os.path.join(self.img_dir, self.img_labels.iloc[idx, 0])\n",
        "        image = read_image(img_path)\n",
        "        label = self.img_labels.iloc[idx, 1]\n",
        "        if self.transform:\n",
        "            image = self.transform(image)\n",
        "        if self.target_transform:\n",
        "            label = self.target_transform(label)\n",
        "        return image, label"
      ],
      "metadata": {
        "id": "yL4Vi3vqM6Gq"
      },
      "execution_count": null,
      "outputs": []
    },
    {
      "cell_type": "markdown",
      "source": [
        "### __init__"
      ],
      "metadata": {
        "id": "zos7AGePNG4U"
      }
    },
    {
      "cell_type": "markdown",
      "source": [
        "__init__ 함수는 Dataset 객체가 생성(instantiate)될 때 한 번만 실행된다. 여기서는 이미지와 주석 파일(annotation_file)이 포함된 디렉토리와 (다음 장에서 자세히 살펴볼) 두가지 변형(transform)을 초기화한다."
      ],
      "metadata": {
        "id": "oG9ydmviNKt2"
      }
    },
    {
      "cell_type": "markdown",
      "source": [
        "labels.csv 파일"
      ],
      "metadata": {
        "id": "eKgNHY-tNSZF"
      }
    },
    {
      "cell_type": "code",
      "source": [
        "tshirt1.jpg, 0\n",
        "tshirt2.jpg, 0\n",
        "......\n",
        "ankleboot999.jpg, 9"
      ],
      "metadata": {
        "colab": {
          "base_uri": "https://localhost:8080/",
          "height": 137
        },
        "id": "m-kvlVGINTpB",
        "outputId": "7ee7be06-f2d6-4ccf-8d06-103f30cb3bc4"
      },
      "execution_count": null,
      "outputs": [
        {
          "output_type": "error",
          "ename": "SyntaxError",
          "evalue": "ignored",
          "traceback": [
            "\u001b[0;36m  File \u001b[0;32m\"<ipython-input-43-d5f5b52e26b4>\"\u001b[0;36m, line \u001b[0;32m3\u001b[0m\n\u001b[0;31m    ......\u001b[0m\n\u001b[0m         ^\u001b[0m\n\u001b[0;31mSyntaxError\u001b[0m\u001b[0;31m:\u001b[0m invalid syntax\n"
          ]
        }
      ]
    },
    {
      "cell_type": "code",
      "source": [
        "def __init__(self, annotations_file, img_dir, transform=None, target_transform=None):\n",
        "    self.img_labels = pd.read_csv(annotations_file)\n",
        "    self.img_dir = img_dir\n",
        "    self.transform = transform\n",
        "    self.target_transform = target_transform"
      ],
      "metadata": {
        "id": "pzyoFUNsNU6u"
      },
      "execution_count": null,
      "outputs": []
    },
    {
      "cell_type": "markdown",
      "source": [
        "### __len__"
      ],
      "metadata": {
        "id": "s-MkhSYmNX35"
      }
    },
    {
      "cell_type": "markdown",
      "source": [
        "__len__ 함수는 데이터셋의 샘플 개수를 반환"
      ],
      "metadata": {
        "id": "VdSwrV0rOI7K"
      }
    },
    {
      "cell_type": "code",
      "source": [
        "def __len__(self):\n",
        "    return len(self.img_labels)"
      ],
      "metadata": {
        "id": "p0Yt_TMeOKig"
      },
      "execution_count": null,
      "outputs": []
    },
    {
      "cell_type": "markdown",
      "source": [
        "### __getitem__"
      ],
      "metadata": {
        "id": "m8fZ_miLOMAZ"
      }
    },
    {
      "cell_type": "markdown",
      "source": [
        "__getitem__ 함수는 주어진 인덱스 idx 에 해당하는 샘플을 데이터셋에서 불러오고 반환한다. 인덱스를 기반으로, 디스크에서 이미지의 위치를 식별하고, read_image 를 사용하여 이미지를 텐서로 변환하고, self.img_labels 의 csv 데이터로부터 해당하는 정답(label)을 가져오고, (해당하는 경우) 변형(transform) 함수들을 호출한 뒤, 텐서 이미지와 라벨을 Python 사전(dict)형으로 반환한다."
      ],
      "metadata": {
        "id": "KVjVD9HLOPKj"
      }
    },
    {
      "cell_type": "code",
      "source": [
        "def __getitem__(self, idx):\n",
        "    img_path = os.path.join(self.img_dir, self.img_labels.iloc[idx, 0])\n",
        "    image = read_image(img_path)\n",
        "    label = self.img_labels.iloc[idx, 1]\n",
        "    if self.transform:\n",
        "        image = self.transform(image)\n",
        "    if self.target_transform:\n",
        "        label = self.target_transform(label)\n",
        "    sample = {\"image\": image, \"label\": label}\n",
        "    return sample"
      ],
      "metadata": {
        "id": "pw-lccPhOTpJ"
      },
      "execution_count": null,
      "outputs": []
    },
    {
      "cell_type": "markdown",
      "source": [
        "\n",
        "\n",
        "---\n",
        "\n"
      ],
      "metadata": {
        "id": "QShavmDkVUWW"
      }
    },
    {
      "cell_type": "markdown",
      "source": [
        "## DataLoader로 학습용 데이터 준비하기"
      ],
      "metadata": {
        "id": "BQBPxg7MOWbp"
      }
    },
    {
      "cell_type": "markdown",
      "source": [
        "Dataset 은 데이터셋의 특징(feature)을 가져오고 하나의 샘플에 정답(label)을 지정하는 일을 한 번에 한다. 모델을 학습할 때, 일반적으로 샘플들을 “미니배치(minibatch)”로 전달하고, 매 에폭(epoch)마다 데이터를 다시 섞어서 과적합(overfit)을 막고, Python의 multiprocessing 을 사용하여 데이터 검색 속도를 높이려고 한다."
      ],
      "metadata": {
        "id": "RYhkVwQHOZnM"
      }
    },
    {
      "cell_type": "markdown",
      "source": [
        "DataLoader 는 간단한 API로 이러한 복잡한 과정들을 추상화한 순회 가능한 객체(iterable)이다."
      ],
      "metadata": {
        "id": "vHHrs22QOgWL"
      }
    },
    {
      "cell_type": "code",
      "source": [
        "from torch.utils.data import DataLoader\n",
        "\n",
        "train_dataloader = DataLoader(training_data, batch_size=64, shuffle=True)\n",
        "test_dataloader = DataLoader(test_data, batch_size=64, shuffle=True)"
      ],
      "metadata": {
        "id": "T-pqZuLXOiyl"
      },
      "execution_count": null,
      "outputs": []
    },
    {
      "cell_type": "markdown",
      "source": [
        "##DataLoader를 통해 순회하기(iterate)"
      ],
      "metadata": {
        "id": "LnkKXqXkOkd0"
      }
    },
    {
      "cell_type": "markdown",
      "source": [
        "DataLoader 에 데이터셋을 불러온 뒤에는 필요에 따라 데이터셋을 순회(iterate)할 수 있다. 아래의 각 순회(iteration)는 (각각 batch_size=64 의 특징(feature)과 정답(label)을 포함하는) train_features 와 train_labels 의 묶음(batch)을 반환한다. shuffle=True 로 지정했으므로, 모든 배치를 순회한 뒤 데이터가 섞인다. "
      ],
      "metadata": {
        "id": "WJ_9fJX0OwV8"
      }
    },
    {
      "cell_type": "code",
      "source": [
        "# 이미지와 정답(label)을 표시합니다.\n",
        "train_features, train_labels = next(iter(train_dataloader))\n",
        "print(f\"Feature batch shape: {train_features.size()}\")\n",
        "print(f\"Labels batch shape: {train_labels.size()}\")\n",
        "img = train_features[0].squeeze()\n",
        "label = train_labels[0]\n",
        "plt.imshow(img, cmap=\"gray\")\n",
        "plt.show()\n",
        "print(f\"Label: {label}\")"
      ],
      "metadata": {
        "colab": {
          "base_uri": "https://localhost:8080/",
          "height": 320
        },
        "id": "qke2wICiOwgN",
        "outputId": "bf893d5e-f88d-47d8-82bd-e30f2789d2de"
      },
      "execution_count": null,
      "outputs": [
        {
          "output_type": "stream",
          "name": "stdout",
          "text": [
            "Feature batch shape: torch.Size([64, 1, 28, 28])\n",
            "Labels batch shape: torch.Size([64])\n"
          ]
        },
        {
          "output_type": "display_data",
          "data": {
            "text/plain": [
              "<Figure size 432x288 with 1 Axes>"
            ],
            "image/png": "[encoded data removed]"
          },
          "metadata": {
            "needs_background": "light"
          }
        },
        {
          "output_type": "stream",
          "name": "stdout",
          "text": [
            "Label: 0\n"
          ]
        }
      ]
    },
    {
      "cell_type": "markdown",
      "source": [
        "# 3.변형(TRANSFORM)"
      ],
      "metadata": {
        "id": "tOjMHBwoPG2H"
      }
    },
    {
      "cell_type": "markdown",
      "source": [
        "학습을 하려면 정규화(normalize)된 텐서 형태의 특징(feature)과 원-핫(one-hot)으로 부호화(encode)된 텐서 형태의 정답(label)이 필요하다. 이러한 변형(transformation)을 하기 위해 ToTensor 와 Lambda 를 사용한다."
      ],
      "metadata": {
        "id": "Z42-pu5tPHtl"
      }
    },
    {
      "cell_type": "code",
      "source": [
        "import torch\n",
        "from torchvision import datasets\n",
        "from torchvision.transforms import ToTensor, Lambda\n",
        "\n",
        "ds = datasets.FashionMNIST(\n",
        "    root=\"data\",\n",
        "    train=True,\n",
        "    download=True,\n",
        "    transform=ToTensor(),\n",
        "    target_transform=Lambda(lambda y: torch.zeros(10, dtype=torch.float).scatter_(0, torch.tensor(y), value=1))\n",
        ")"
      ],
      "metadata": {
        "id": "c1DLwHLESqXr"
      },
      "execution_count": null,
      "outputs": []
    },
    {
      "cell_type": "markdown",
      "source": [
        "## ToTensor()"
      ],
      "metadata": {
        "id": "q_swVB43Sz6S"
      }
    },
    {
      "cell_type": "markdown",
      "source": [
        "ToTensor 는 PIL Image나 NumPy ndarray 를 FloatTensor 로 변환하고, 이미지의 픽셀의 크기(intensity) 값을 [0., 1.] 범위로 비례하여 조정(scale)한다."
      ],
      "metadata": {
        "id": "niKr8aMRS2PS"
      }
    },
    {
      "cell_type": "markdown",
      "source": [
        "## Lambda 변형(Transform)"
      ],
      "metadata": {
        "id": "KK06v1HAS5YV"
      }
    },
    {
      "cell_type": "markdown",
      "source": [
        "Lambda 변형은 사용자 정의 람다(lambda) 함수를 적용합니다. 여기에서는 정수를 원-핫으로 부호화된 텐서로 바꾸는 함수를 정의한다. 이 함수는 먼저 (데이터셋 정답의 개수인) 크기 10짜리 영 텐서(zero tensor)를 만들고, scatter_ 를 호출하여 주어진 정답 y 에 해당하는 인덱스에 value=1 을 할당한다."
      ],
      "metadata": {
        "id": "mT6vFrADS7h6"
      }
    },
    {
      "cell_type": "code",
      "source": [
        "target_transform = Lambda(lambda y: torch.zeros(\n",
        "    10, dtype=torch.float).scatter_(dim=0, index=torch.tensor(y), value=1))"
      ],
      "metadata": {
        "id": "AZuVLtK4S70r"
      },
      "execution_count": null,
      "outputs": []
    },
    {
      "cell_type": "markdown",
      "source": [
        "# 4.신경망 모델 구성하기"
      ],
      "metadata": {
        "id": "7kGbcVEJTHv1"
      }
    },
    {
      "cell_type": "markdown",
      "source": [
        "신경망은 데이터에 대한 연산을 수행하는 계층(layer)/모듈(module)로 구성되어 있다. torch.nn 네임스페이스는 신경망을 구성하는데 필요한 모든 구성 요소를 제공한다. PyTorch의 모든 모듈은 nn.Module 의 하위 클래스(subclass) 이다. 신경망은 다른 모듈(계층; layer)로 구성된 모듈이다. 이러한 중첩된 구조는 복잡한 아키텍처를 쉽게 구축하고 관리할 수 있다."
      ],
      "metadata": {
        "id": "wuXTt4Z6TaEn"
      }
    },
    {
      "cell_type": "code",
      "source": [
        "import os\n",
        "import torch\n",
        "from torch import nn\n",
        "from torch.utils.data import DataLoader\n",
        "from torchvision import datasets, transforms"
      ],
      "metadata": {
        "id": "eQA322A6TOJP"
      },
      "execution_count": null,
      "outputs": []
    },
    {
      "cell_type": "markdown",
      "source": [
        "## 학습을 위한 장치 얻기"
      ],
      "metadata": {
        "id": "-RxQ7Y_LTrS-"
      }
    },
    {
      "cell_type": "code",
      "source": [
        "device = \"cuda\" if torch.cuda.is_available() else \"cpu\"\n",
        "print(f\"Using {device} device\")"
      ],
      "metadata": {
        "colab": {
          "base_uri": "https://localhost:8080/"
        },
        "id": "9RKQZGteTv74",
        "outputId": "99cd8422-0dca-4877-c618-99cffd77346b"
      },
      "execution_count": null,
      "outputs": [
        {
          "output_type": "stream",
          "name": "stdout",
          "text": [
            "Using cpu device\n"
          ]
        }
      ]
    },
    {
      "cell_type": "markdown",
      "source": [
        "가능한 경우 GPU와 같은 하드웨어 가속기에서 모델을 학습하려 한다. torch.cuda 를 사용할 수 있는지 확인하고 그렇지 않으면 CPU를 계속 사용한다."
      ],
      "metadata": {
        "id": "chMNF8sVT-ZQ"
      }
    },
    {
      "cell_type": "markdown",
      "source": [
        "## 클래스 정의하기"
      ],
      "metadata": {
        "id": "Bx-nFAvuUGlg"
      }
    },
    {
      "cell_type": "markdown",
      "source": [
        "신경망 모델을 nn.Module 의 하위클래스로 정의하고, __init__ 에서 신경망 계층들을 초기화"
      ],
      "metadata": {
        "id": "yAuSIp05UKXA"
      }
    },
    {
      "cell_type": "markdown",
      "source": [
        "nn.Module 을 상속받은 모든 클래스는 forward 메소드에 입력 데이터에 대한 연산들을 구현"
      ],
      "metadata": {
        "id": "qLjmbY_oUOUR"
      }
    },
    {
      "cell_type": "code",
      "source": [
        "class NeuralNetwork(nn.Module):\n",
        "    def __init__(self):\n",
        "        super(NeuralNetwork, self).__init__()\n",
        "        self.flatten = nn.Flatten()\n",
        "        self.linear_relu_stack = nn.Sequential(\n",
        "            nn.Linear(28*28, 512),\n",
        "            nn.ReLU(),\n",
        "            nn.Linear(512, 512),\n",
        "            nn.ReLU(),\n",
        "            nn.Linear(512, 10),\n",
        "        )\n",
        "\n",
        "    def forward(self, x):\n",
        "        x = self.flatten(x)\n",
        "        logits = self.linear_relu_stack(x)\n",
        "        return logits"
      ],
      "metadata": {
        "id": "-balLzpLUP85"
      },
      "execution_count": null,
      "outputs": []
    },
    {
      "cell_type": "markdown",
      "source": [
        "NeuralNetwork 의 인스턴스(instance)를 생성하고 이를 device 로 이동한 뒤, 구조(structure)를 출력"
      ],
      "metadata": {
        "id": "CQLhbGouUSLV"
      }
    },
    {
      "cell_type": "code",
      "source": [
        "model = NeuralNetwork().to(device)\n",
        "print(model)"
      ],
      "metadata": {
        "colab": {
          "base_uri": "https://localhost:8080/"
        },
        "id": "cK7Ca6ZgUT1R",
        "outputId": "389ad89b-a044-463e-ed97-8740149a183d"
      },
      "execution_count": null,
      "outputs": [
        {
          "output_type": "stream",
          "name": "stdout",
          "text": [
            "NeuralNetwork(\n",
            "  (flatten): Flatten(start_dim=1, end_dim=-1)\n",
            "  (linear_relu_stack): Sequential(\n",
            "    (0): Linear(in_features=784, out_features=512, bias=True)\n",
            "    (1): ReLU()\n",
            "    (2): Linear(in_features=512, out_features=512, bias=True)\n",
            "    (3): ReLU()\n",
            "    (4): Linear(in_features=512, out_features=10, bias=True)\n",
            "  )\n",
            ")\n"
          ]
        }
      ]
    },
    {
      "cell_type": "markdown",
      "source": [
        "모델을 사용하기 위해 입력 데이터를 전달한다. 이는 일부 백그라운드 연산들 과 함께 모델의 forward 를 실행한다.(model.forward() 를 직접 호출하지 말 것)\n",
        "\n",
        "모델에 입력을 호출하면 각 분류(class)에 대한 원시(raw) 예측값이 있는 10-차원 텐서가 반환된다. 원시 예측값을 nn.Softmax 모듈의 인스턴스에 통과시켜 예측 확률을 얻는다."
      ],
      "metadata": {
        "id": "SWmQZjaRVqhy"
      }
    },
    {
      "cell_type": "code",
      "source": [
        "X = torch.rand(1, 28, 28, device=device)\n",
        "logits = model(X)\n",
        "pred_probab = nn.Softmax(dim=1)(logits)\n",
        "y_pred = pred_probab.argmax(1)\n",
        "print(f\"Predicted class: {y_pred}\")"
      ],
      "metadata": {
        "colab": {
          "base_uri": "https://localhost:8080/"
        },
        "id": "BZX6aswjV_Rh",
        "outputId": "42cdc06c-610e-4a9f-f935-8721e49df790"
      },
      "execution_count": null,
      "outputs": [
        {
          "output_type": "stream",
          "name": "stdout",
          "text": [
            "Predicted class: tensor([9])\n"
          ]
        }
      ]
    },
    {
      "cell_type": "markdown",
      "source": [
        "\n",
        "\n",
        "---\n",
        "\n"
      ],
      "metadata": {
        "id": "ZuxDPzPbUcqB"
      }
    },
    {
      "cell_type": "markdown",
      "source": [
        "## 모델 계층(Layer)"
      ],
      "metadata": {
        "id": "6MyBZTAYUeSL"
      }
    },
    {
      "cell_type": "markdown",
      "source": [
        "FashionMNIST 모델의 계층들을 살펴본다.\n",
        "\n",
        "이를 설명하기 위해, 28x28 크기의 이미지 3개로 구성된 미니배치를 가져와, 신경망을 통과할 때 어떤 일이 발생하는지 알아본다.\n",
        "\n"
      ],
      "metadata": {
        "id": "gBkrJl1AWGS1"
      }
    },
    {
      "cell_type": "code",
      "source": [
        "input_image = torch.rand(3,28,28)\n",
        "print(input_image.size())"
      ],
      "metadata": {
        "colab": {
          "base_uri": "https://localhost:8080/"
        },
        "id": "RAsdhxMZWUQU",
        "outputId": "9df05838-e9a4-47d4-d69b-1a19895f557e"
      },
      "execution_count": null,
      "outputs": [
        {
          "output_type": "stream",
          "name": "stdout",
          "text": [
            "torch.Size([3, 28, 28])\n"
          ]
        }
      ]
    },
    {
      "cell_type": "markdown",
      "source": [
        "## nn.Flatten"
      ],
      "metadata": {
        "id": "Y8I2JtH8WXVL"
      }
    },
    {
      "cell_type": "markdown",
      "source": [
        "nn.Flatten 계층을 초기화하여 각 28x28의 2D 이미지를 784 픽셀 값을 갖는 연속된 배열로 변환 (dim=0의 미니배치 차원은 유지)"
      ],
      "metadata": {
        "id": "CM3ZUTq8WZgY"
      }
    },
    {
      "cell_type": "code",
      "source": [
        "flatten = nn.Flatten()\n",
        "flat_image = flatten(input_image)\n",
        "print(flat_image.size())"
      ],
      "metadata": {
        "colab": {
          "base_uri": "https://localhost:8080/"
        },
        "id": "4X732N-sWZpJ",
        "outputId": "b5392ba2-50da-4793-be37-9b669dd01593"
      },
      "execution_count": null,
      "outputs": [
        {
          "output_type": "stream",
          "name": "stdout",
          "text": [
            "torch.Size([3, 784])\n"
          ]
        }
      ]
    },
    {
      "cell_type": "markdown",
      "source": [
        "## nn.Linear"
      ],
      "metadata": {
        "id": "-7K3PObjWgQx"
      }
    },
    {
      "cell_type": "markdown",
      "source": [
        "선형 계층 은 저장된 가중치(weight)와 편향(bias)을 사용하여 입력에 선형 변환(linear transformation)을 적용하는 모듈"
      ],
      "metadata": {
        "id": "mAxy3T8kWgZv"
      }
    },
    {
      "cell_type": "code",
      "source": [
        "layer1 = nn.Linear(in_features=28*28, out_features=20)\n",
        "hidden1 = layer1(flat_image)\n",
        "print(hidden1.size())"
      ],
      "metadata": {
        "colab": {
          "base_uri": "https://localhost:8080/"
        },
        "id": "9AeicSWkWnj8",
        "outputId": "e05ab428-94cb-43a1-ab4b-46c3adb1661f"
      },
      "execution_count": null,
      "outputs": [
        {
          "output_type": "stream",
          "name": "stdout",
          "text": [
            "torch.Size([3, 20])\n"
          ]
        }
      ]
    },
    {
      "cell_type": "markdown",
      "source": [
        "## nn.ReLU"
      ],
      "metadata": {
        "id": "TypbCVNsWqe2"
      }
    },
    {
      "cell_type": "markdown",
      "source": [
        "이 모델에서는 nn.ReLU 를 선형 계층들 사이에 사용하지만, 모델을 만들 때는 비선형성을 가진 다른 활성화를 도입할 수도 있다."
      ],
      "metadata": {
        "id": "_cjpKFb6WqpG"
      }
    },
    {
      "cell_type": "code",
      "source": [
        "print(f\"Before ReLU: {hidden1}\\n\\n\")\n",
        "hidden1 = nn.ReLU()(hidden1)\n",
        "print(f\"After ReLU: {hidden1}\")"
      ],
      "metadata": {
        "colab": {
          "base_uri": "https://localhost:8080/"
        },
        "id": "pdqKMGwnWz1B",
        "outputId": "c8ecc852-a865-46ea-ad82-b1c21a82d8b0"
      },
      "execution_count": null,
      "outputs": [
        {
          "output_type": "stream",
          "name": "stdout",
          "text": [
            "Before ReLU: tensor([[ 0.4755, -0.6681,  0.8786, -0.4078, -0.1554, -0.4503, -0.4385,  0.3397,\n",
            "         -0.0311,  0.9596,  0.0665, -0.4736, -0.1852,  0.2739, -0.1654, -0.0482,\n",
            "          0.0836, -0.1636, -0.0941,  0.1246],\n",
            "        [ 0.4496, -0.3924,  0.8740, -0.0526, -0.2919, -0.3859, -0.0443,  0.0413,\n",
            "          0.2645,  0.5377,  0.3785, -0.4973, -0.1338,  0.2183, -0.1965, -0.2852,\n",
            "          0.0297, -0.1850, -0.2866,  0.0941],\n",
            "        [ 0.7910, -0.8913,  0.4595, -0.4746, -0.3855, -0.1840, -0.5431,  0.1731,\n",
            "         -0.1110,  0.5263, -0.0653, -0.4091, -0.2007,  0.4970, -0.5955,  0.0017,\n",
            "         -0.1319, -0.3318, -0.2487,  0.0867]], grad_fn=<AddmmBackward0>)\n",
            "\n",
            "\n",
            "After ReLU: tensor([[0.4755, 0.0000, 0.8786, 0.0000, 0.0000, 0.0000, 0.0000, 0.3397, 0.0000,\n",
            "         0.9596, 0.0665, 0.0000, 0.0000, 0.2739, 0.0000, 0.0000, 0.0836, 0.0000,\n",
            "         0.0000, 0.1246],\n",
            "        [0.4496, 0.0000, 0.8740, 0.0000, 0.0000, 0.0000, 0.0000, 0.0413, 0.2645,\n",
            "         0.5377, 0.3785, 0.0000, 0.0000, 0.2183, 0.0000, 0.0000, 0.0297, 0.0000,\n",
            "         0.0000, 0.0941],\n",
            "        [0.7910, 0.0000, 0.4595, 0.0000, 0.0000, 0.0000, 0.0000, 0.1731, 0.0000,\n",
            "         0.5263, 0.0000, 0.0000, 0.0000, 0.4970, 0.0000, 0.0017, 0.0000, 0.0000,\n",
            "         0.0000, 0.0867]], grad_fn=<ReluBackward0>)\n"
          ]
        }
      ]
    },
    {
      "cell_type": "markdown",
      "source": [
        "## nn.Sequential"
      ],
      "metadata": {
        "id": "7B9tFcAUW3Ay"
      }
    },
    {
      "cell_type": "markdown",
      "source": [
        "nn.Sequential 은 순서를 갖는 모듈의 컨테이너입니다. 데이터는 정의된 것과 같은 순서로 모든 모듈들을 통해 전달된다. 순차 컨테이너(sequential container)를 사용하여 아래의 seq_modules 와 같은 신경망을 빠르게 만들 수 있다."
      ],
      "metadata": {
        "id": "M64gIGVNW3OA"
      }
    },
    {
      "cell_type": "code",
      "source": [
        "seq_modules = nn.Sequential(\n",
        "    flatten,\n",
        "    layer1,\n",
        "    nn.ReLU(),\n",
        "    nn.Linear(20, 10)\n",
        ")\n",
        "input_image = torch.rand(3,28,28)\n",
        "logits = seq_modules(input_image)"
      ],
      "metadata": {
        "id": "cbyIApdeW90Z"
      },
      "execution_count": null,
      "outputs": []
    },
    {
      "cell_type": "markdown",
      "source": [
        "nn.Softmax"
      ],
      "metadata": {
        "id": "1qVch6AsW_qj"
      }
    },
    {
      "cell_type": "markdown",
      "source": [
        "신경망의 마지막 선형 계층은 nn.Softmax 모듈에 전달될 ([-infty, infty] 범위의 원시 값(raw value)인) logits 를 반환 \n",
        "\n",
        "logits는 모델의 각 분류(class)에 대한 예측 확률을 나타내도록 [0, 1] 범위로 비례하여 조정(scale)됩니다. dim 매개변수는 값의 합이 1이 되는 차원을 나타낸다."
      ],
      "metadata": {
        "id": "fxE11EQGXBFV"
      }
    },
    {
      "cell_type": "code",
      "source": [
        "softmax = nn.Softmax(dim=1)\n",
        "pred_probab = softmax(logits)"
      ],
      "metadata": {
        "id": "TTwQbiC_XQSV"
      },
      "execution_count": null,
      "outputs": []
    },
    {
      "cell_type": "markdown",
      "source": [
        "## 모델 매개변수"
      ],
      "metadata": {
        "id": "NDgGNPddXR6u"
      }
    },
    {
      "cell_type": "markdown",
      "source": [
        "신경망 내부의 많은 계층들은 매개변수화(parameterize) 된다.\n",
        "\n",
        "즉, 학습 중에 최적화되는 가중치와 편향과 연관지어집니다. nn.Module 을 상속하면 모델 객체 내부의 모든 필드들이 자동으로 추적(track)되며, 모델의 parameters() 및 named_parameters() 메소드로 모든 매개변수에 접근할 수 있게 된다."
      ],
      "metadata": {
        "id": "LMZDrTE5XUeo"
      }
    },
    {
      "cell_type": "code",
      "source": [
        "print(f\"Model structure: {model}\\n\\n\")\n",
        "\n",
        "for name, param in model.named_parameters():\n",
        "    print(f\"Layer: {name} | Size: {param.size()} | Values : {param[:2]} \\n\")"
      ],
      "metadata": {
        "colab": {
          "base_uri": "https://localhost:8080/"
        },
        "id": "Bj69H1ldZzaK",
        "outputId": "3154d43f-584e-4278-fcd4-f4de52279342"
      },
      "execution_count": null,
      "outputs": [
        {
          "output_type": "stream",
          "name": "stdout",
          "text": [
            "Model structure: NeuralNetwork(\n",
            "  (flatten): Flatten(start_dim=1, end_dim=-1)\n",
            "  (linear_relu_stack): Sequential(\n",
            "    (0): Linear(in_features=784, out_features=512, bias=True)\n",
            "    (1): ReLU()\n",
            "    (2): Linear(in_features=512, out_features=512, bias=True)\n",
            "    (3): ReLU()\n",
            "    (4): Linear(in_features=512, out_features=10, bias=True)\n",
            "  )\n",
            ")\n",
            "\n",
            "\n",
            "Layer: linear_relu_stack.0.weight | Size: torch.Size([512, 784]) | Values : tensor([[-0.0128,  0.0244, -0.0149,  ..., -0.0254,  0.0257,  0.0126],\n",
            "        [-0.0349,  0.0266,  0.0238,  ..., -0.0117,  0.0146,  0.0003]],\n",
            "       grad_fn=<SliceBackward0>) \n",
            "\n",
            "Layer: linear_relu_stack.0.bias | Size: torch.Size([512]) | Values : tensor([0.0322, 0.0232], grad_fn=<SliceBackward0>) \n",
            "\n",
            "Layer: linear_relu_stack.2.weight | Size: torch.Size([512, 512]) | Values : tensor([[ 0.0074,  0.0255, -0.0125,  ...,  0.0014,  0.0350, -0.0155],\n",
            "        [ 0.0153,  0.0035, -0.0045,  ..., -0.0180, -0.0095,  0.0263]],\n",
            "       grad_fn=<SliceBackward0>) \n",
            "\n",
            "Layer: linear_relu_stack.2.bias | Size: torch.Size([512]) | Values : tensor([ 0.0322, -0.0352], grad_fn=<SliceBackward0>) \n",
            "\n",
            "Layer: linear_relu_stack.4.weight | Size: torch.Size([10, 512]) | Values : tensor([[-0.0397, -0.0267,  0.0079,  ..., -0.0389, -0.0104,  0.0242],\n",
            "        [-0.0315, -0.0229,  0.0171,  ..., -0.0173,  0.0217, -0.0020]],\n",
            "       grad_fn=<SliceBackward0>) \n",
            "\n",
            "Layer: linear_relu_stack.4.bias | Size: torch.Size([10]) | Values : tensor([-0.0410, -0.0258], grad_fn=<SliceBackward0>) \n",
            "\n"
          ]
        }
      ]
    },
    {
      "cell_type": "markdown",
      "source": [
        "\n",
        "\n",
        "# 5.Autograd: TORCH.AUTOGRAD를 사용한 자동 미분"
      ],
      "metadata": {
        "id": "jrLt5lquZ4iG"
      }
    },
    {
      "cell_type": "markdown",
      "source": [
        "신경망을 학습할 때 가장 자주 사용되는 알고리즘은 역전파이다. 이 알고리즘에서, 매개변수(모델 가중치)는 주어진 매개변수에 대한 손실 함수의 변화도(gradient)에 따라 조정된다.\n",
        "\n",
        "\n",
        "이러한 변화도를 계산하기 위해 PyTorch에는 torch.autograd라고 불리는 자동 미분 엔진이 내장되어 있다.\n",
        "\n",
        "\n",
        "입력 x, 매개변수 w와 b , 그리고 일부 손실 함수가 있는 가장 간단한 단일 계층 신경망을 가정한다."
      ],
      "metadata": {
        "id": "G3Tmq0T-aIaU"
      }
    },
    {
      "cell_type": "code",
      "source": [
        "import torch\n",
        "\n",
        "x = torch.ones(5)  # input tensor\n",
        "y = torch.zeros(3)  # expected output\n",
        "w = torch.randn(5, 3, requires_grad=True)\n",
        "b = torch.randn(3, requires_grad=True)\n",
        "z = torch.matmul(x, w)+b\n",
        "loss = torch.nn.functional.binary_cross_entropy_with_logits(z, y)"
      ],
      "metadata": {
        "id": "OZLSEc02jNbN"
      },
      "execution_count": null,
      "outputs": []
    },
    {
      "cell_type": "markdown",
      "source": [
        "## Tensor, Function과 연산그래프(Computational graph)"
      ],
      "metadata": {
        "id": "JXj8K8VvjQSd"
      }
    },
    {
      "cell_type": "markdown",
      "source": [
        "이 코드는 다음의 연산 그래프를 정의한다."
      ],
      "metadata": {
        "id": "LwsefsltjayN"
      }
    },
    {
      "cell_type": "markdown",
      "source": [
        "![1.PNG](data:image/png;base64,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)"
      ],
      "metadata": {
        "id": "WhI-sIZvjeDG"
      }
    },
    {
      "cell_type": "markdown",
      "source": [
        "이 신경망에서, w와 b는 최적화를 해야 하는 매개변수이다. 따라서 이러한 변수들에 대한 손실 함수의 변화도를 계산할 수 있어야 한다. 이를 위해서 해당 텐서에 requires_grad 속성을 설정한다."
      ],
      "metadata": {
        "id": "qpud3dzxj5Fd"
      }
    },
    {
      "cell_type": "markdown",
      "source": [
        "*requires_grad의 값은 텐서를 생성할 때 설정하거나, 나중에 x.requires_grad_(True) 메소드를 사용하여 나중에 설정할 수 있다."
      ],
      "metadata": {
        "id": "aA5SmkSZkBBb"
      }
    },
    {
      "cell_type": "markdown",
      "source": [
        "연산 그래프를 구성하기 위해 텐서에 적용하는 함수는 사실 Function 클래스의 객체이다. 이 객체는 *순전파* 방향으로 함수를 계산하는 방법과, *역방향 전파* 단계에서 도함수(derivative)를 계산하는 방법을 알고 있다. 역방향 전파 함수에 대한 참조(reference)는 텐서의 grad_fn 속성에 저장된다."
      ],
      "metadata": {
        "id": "He7ifuO1kPR7"
      }
    },
    {
      "cell_type": "code",
      "source": [
        "print(f\"Gradient function for z = {z.grad_fn}\")\n",
        "print(f\"Gradient function for loss = {loss.grad_fn}\")"
      ],
      "metadata": {
        "colab": {
          "base_uri": "https://localhost:8080/"
        },
        "id": "0E7tgOHwj2HJ",
        "outputId": "d56d38b7-2930-4f99-b389-d80d85dd37e5"
      },
      "execution_count": null,
      "outputs": [
        {
          "output_type": "stream",
          "name": "stdout",
          "text": [
            "Gradient function for z = <AddBackward0 object at 0x7f2e170c7310>\n",
            "Gradient function for loss = <BinaryCrossEntropyWithLogitsBackward0 object at 0x7f2e170c7250>\n"
          ]
        }
      ]
    },
    {
      "cell_type": "markdown",
      "source": [
        "## 변화도(Gradient) 계산하기"
      ],
      "metadata": {
        "id": "1mE8oVUWkZG2"
      }
    },
    {
      "cell_type": "markdown",
      "source": [
        "신경망에서 매개변수의 가중치를 최적화하려면 매개변수에 대한 손실함수의 도함수(derivative)를 계산해야 한다."
      ],
      "metadata": {
        "id": "FwEL0TDCkccC"
      }
    },
    {
      "cell_type": "code",
      "source": [
        "loss.backward()\n",
        "print(w.grad)\n",
        "print(b.grad)"
      ],
      "metadata": {
        "colab": {
          "base_uri": "https://localhost:8080/"
        },
        "id": "LBGR02gDkgY2",
        "outputId": "eadb981a-1d70-4660-8fab-461f5db4dafe"
      },
      "execution_count": null,
      "outputs": [
        {
          "output_type": "stream",
          "name": "stdout",
          "text": [
            "tensor([[0.2305, 0.1920, 0.1881],\n",
            "        [0.2305, 0.1920, 0.1881],\n",
            "        [0.2305, 0.1920, 0.1881],\n",
            "        [0.2305, 0.1920, 0.1881],\n",
            "        [0.2305, 0.1920, 0.1881]])\n",
            "tensor([0.2305, 0.1920, 0.1881])\n"
          ]
        }
      ]
    },
    {
      "cell_type": "markdown",
      "source": [
        "## 변화도 추적 멈추기"
      ],
      "metadata": {
        "id": "8nvjAlV2kkDo"
      }
    },
    {
      "cell_type": "markdown",
      "source": [
        "모델을 학습한 뒤 입력 데이터를 단순히 적용하기만 하는 경우와 같이 순전파 연산만 필요한 경우에는 연산 코드를 torch.no_grad() 블록으로 둘러싸서 연산 추적을 멈출 수 있다:"
      ],
      "metadata": {
        "id": "HnLFfG6VknyV"
      }
    },
    {
      "cell_type": "code",
      "source": [
        "z = torch.matmul(x, w)+b\n",
        "print(z.requires_grad)\n",
        "\n",
        "with torch.no_grad():\n",
        "    z = torch.matmul(x, w)+b\n",
        "print(z.requires_grad)"
      ],
      "metadata": {
        "colab": {
          "base_uri": "https://localhost:8080/"
        },
        "id": "Rf3pvMBekmVf",
        "outputId": "095cfadf-2eed-4feb-b6af-0f4901ee050f"
      },
      "execution_count": null,
      "outputs": [
        {
          "output_type": "stream",
          "name": "stdout",
          "text": [
            "True\n",
            "False\n"
          ]
        }
      ]
    },
    {
      "cell_type": "markdown",
      "source": [
        "동일한 결과를 얻는 다른 방법: 텐서에 detach() 메소드를 사용하는 것"
      ],
      "metadata": {
        "id": "KjQT1FPmk7XR"
      }
    },
    {
      "cell_type": "code",
      "source": [
        "z = torch.matmul(x, w)+b\n",
        "z_det = z.detach()\n",
        "print(z_det.requires_grad)"
      ],
      "metadata": {
        "colab": {
          "base_uri": "https://localhost:8080/"
        },
        "id": "tdykGAwAk0OD",
        "outputId": "7807f9bc-1859-443e-841a-e3b6a6137e7a"
      },
      "execution_count": null,
      "outputs": [
        {
          "output_type": "stream",
          "name": "stdout",
          "text": [
            "False\n"
          ]
        }
      ]
    },
    {
      "cell_type": "markdown",
      "source": [
        "변화도 추적을 멈춰야 하는 이유\n",
        "\n",
        "\n",
        "* 신경망의 일부 매개변수를 고정된 매개변수(frozen parameter)로 표시하는데, 사전 학습된 신경망을 미세조정 할 때 매우 일반적인 시나리오이다.\n",
        "\n",
        "* 변화도를 추적하지 않는 텐서의 연산이 더 효율적이기 때문에, 순전파 단계만 수행할 때 연산 속도가 향상된다."
      ],
      "metadata": {
        "id": "TJGuY_dbk_at"
      }
    },
    {
      "cell_type": "markdown",
      "source": [
        "## 연산 그래프에 대한 추가 정보"
      ],
      "metadata": {
        "id": "e2sPlyPIlOvF"
      }
    },
    {
      "cell_type": "markdown",
      "source": [
        "순전파 단계에서, autograd는 다음 두 가지 작업을 동시에 수행\n",
        "\n",
        "* 요청된 연산을 수행하여 결과 텐서를 계산하고,\n",
        "\n",
        "* DAG에 연산의 변화도 기능(gradient function) 를 유지(maintain)"
      ],
      "metadata": {
        "id": "d6X3Xpk2lfxk"
      }
    },
    {
      "cell_type": "markdown",
      "source": [
        "역전파 단계는 DAG 뿌리(root)에서 .backward() 가 호출될 때 시작된다. autograd는 이 때:\n",
        "\n",
        "* 각 .grad_fn 으로부터 변화도를 계산하고,\n",
        "\n",
        "* 각 텐서의 .grad 속성에 계산 결과를 쌓고(accumulate),\n",
        "\n",
        "* 연쇄 법칙을 사용하여, 모든 잎(leaf) 텐서들까지 전파(propagate)"
      ],
      "metadata": {
        "id": "r95PDAMolrn9"
      }
    },
    {
      "cell_type": "markdown",
      "source": [
        "## 선택적으로 읽기(Optional Reading): 텐서 변화도와 야코비안 곱 (Jacobian Product)"
      ],
      "metadata": {
        "id": "PsucVq1ml2YE"
      }
    },
    {
      "cell_type": "markdown",
      "source": [
        "대부분의 경우, 스칼라 손실 함수를 가지고 일부 매개변수와 관련한 변화도를 계산하지만 출력 함수가 임의의 텐서인 경우가 있다. 이럴 때, PyTorch는 실제 변화도가 아닌 야코비안 곱(Jacobian product)을 계산한다."
      ],
      "metadata": {
        "id": "_Nxfzchfl5M8"
      }
    },
    {
      "cell_type": "code",
      "source": [
        "inp = torch.eye(5, requires_grad=True)\n",
        "out = (inp+1).pow(2)\n",
        "out.backward(torch.ones_like(inp), retain_graph=True)\n",
        "print(f\"First call\\n{inp.grad}\")\n",
        "out.backward(torch.ones_like(inp), retain_graph=True)\n",
        "print(f\"\\nSecond call\\n{inp.grad}\")\n",
        "inp.grad.zero_()\n",
        "out.backward(torch.ones_like(inp), retain_graph=True)\n",
        "print(f\"\\nCall after zeroing gradients\\n{inp.grad}\")"
      ],
      "metadata": {
        "colab": {
          "base_uri": "https://localhost:8080/"
        },
        "id": "liaRZ9wSl5Zs",
        "outputId": "74caab90-0e9e-4106-8202-b4cdf829e6a1"
      },
      "execution_count": null,
      "outputs": [
        {
          "output_type": "stream",
          "name": "stdout",
          "text": [
            "First call\n",
            "tensor([[4., 2., 2., 2., 2.],\n",
            "        [2., 4., 2., 2., 2.],\n",
            "        [2., 2., 4., 2., 2.],\n",
            "        [2., 2., 2., 4., 2.],\n",
            "        [2., 2., 2., 2., 4.]])\n",
            "\n",
            "Second call\n",
            "tensor([[8., 4., 4., 4., 4.],\n",
            "        [4., 8., 4., 4., 4.],\n",
            "        [4., 4., 8., 4., 4.],\n",
            "        [4., 4., 4., 8., 4.],\n",
            "        [4., 4., 4., 4., 8.]])\n",
            "\n",
            "Call after zeroing gradients\n",
            "tensor([[4., 2., 2., 2., 2.],\n",
            "        [2., 4., 2., 2., 2.],\n",
            "        [2., 2., 4., 2., 2.],\n",
            "        [2., 2., 2., 4., 2.],\n",
            "        [2., 2., 2., 2., 4.]])\n"
          ]
        }
      ]
    },
    {
      "cell_type": "markdown",
      "source": [
        "# 6.최적화(Optimization): 모델 매개변수 최적화하기"
      ],
      "metadata": {
        "id": "qEZYII_1mgug"
      }
    },
    {
      "cell_type": "markdown",
      "source": [
        "## 기본(Pre-requisite) 코드"
      ],
      "metadata": {
        "id": "MmR3x9JUm-Dp"
      }
    },
    {
      "cell_type": "code",
      "source": [
        "# Dataset과 DataLoader와 신경망 모델 구성하기에서 코드를 가져왔습니다.\n",
        "\n",
        "import torch\n",
        "from torch import nn\n",
        "from torch.utils.data import DataLoader\n",
        "from torchvision import datasets\n",
        "from torchvision.transforms import ToTensor, Lambda\n",
        "\n",
        "training_data = datasets.FashionMNIST(\n",
        "    root=\"data\",\n",
        "    train=True,\n",
        "    download=True,\n",
        "    transform=ToTensor()\n",
        ")\n",
        "\n",
        "test_data = datasets.FashionMNIST(\n",
        "    root=\"data\",\n",
        "    train=False,\n",
        "    download=True,\n",
        "    transform=ToTensor()\n",
        ")\n",
        "\n",
        "train_dataloader = DataLoader(training_data, batch_size=64)\n",
        "test_dataloader = DataLoader(test_data, batch_size=64)\n",
        "\n",
        "class NeuralNetwork(nn.Module):\n",
        "    def __init__(self):\n",
        "        super(NeuralNetwork, self).__init__()\n",
        "        self.flatten = nn.Flatten()\n",
        "        self.linear_relu_stack = nn.Sequential(\n",
        "            nn.Linear(28*28, 512),\n",
        "            nn.ReLU(),\n",
        "            nn.Linear(512, 512),\n",
        "            nn.ReLU(),\n",
        "            nn.Linear(512, 10),\n",
        "        )\n",
        "\n",
        "    def forward(self, x):\n",
        "        x = self.flatten(x)\n",
        "        logits = self.linear_relu_stack(x)\n",
        "        return logits\n",
        "\n",
        "model = NeuralNetwork()"
      ],
      "metadata": {
        "colab": {
          "base_uri": "https://localhost:8080/",
          "height": 459,
          "referenced_widgets": [
            "a757ce8d25994f03a2af65e2f8f54887",
            "c7894c4b366b48d2a5fd83329e6ec4b2",
            "f4e3601b520346e284ea9200c55f9f03",
            "43ba59713e374e1e8e9c09509a2733a4",
            "de14ad9f174c46eabce99cbf3ce3d1c5",
            "9214d2471f5f436eb9830f4a9b330359",
            "0ba09665b6b64a8ca41ca92a89d540cb",
            "73eb32810f1041aa877128050a31c62c",
            "9b5a08605b3d4615943f8b96251bbd6e",
            "0fe0125243544e5db2642eb25d84bc13",
            "1a7f5c7237134c45b6bd64cf024f3d16",
            "346f2a229e154a40b20b5da4c71689ba",
            "75f17b6384784effa46ba9c18133642b",
            "0ab4e707126f4bb397d93d2d60d5badd",
            "7f36c18cc60e462dbbde6079ce35b364",
            "0c94bb6007cb4400b17434358cdc1a4b",
            "e2a4dd0b70534f72b718dd08406ac9a0",
            "89b914bdda2349e1841d9e0833b148e5",
            "28a9fb1f4d994505a4a60ac46c59cde2",
            "d80317badaec4711b22d27316f05b13c",
            "b7aa926951094acd87bfc4f40f716a01",
            "a057cbd4d52746bab7653b8f1235d2e3",
            "867c8e2fe7bb4fe7ab742d98a9232a89",
            "5c713a52597a4a5b9f5a705576fffda6",
            "33dfa7ab6adf4a02b6677e54064506c8",
            "6a49afb3bc664ed38d8689884dc59fb9",
            "686e63b81c9548b98cf8fd960a37e3a6",
            "2de0a82ddfd74276bd326cdff2f8b391",
            "ff8a6cf415ac4776bd273c2666c93329",
            "6ef63a5a3c9b4882befab1d32df0b493",
            "69b30a3757d444339e80d2eff51081fd",
            "32ab853213a54154b515ba1299bd898f",
            "278812714bbe4bd8a421e7dc4b9bd2ad",
            "f15dc23f8a8945f5a62239618cc04ffe",
            "bbacac7ccecb4befb93ab2fa881224d3",
            "a119476c17044a1089e0dc3a8fe13675",
            "dc66673f70d5400c9ff62702a0fa119f",
            "5d5b588b9bf94e3bbf0122c9ee19e554",
            "a5b6adb591d54faea2f2500174b4a4a4",
            "bfd629e0a0e845b6aeddd0c37ec659ce",
            "e09ef43cd5ce46d9b5288e585d5c01cc",
            "5d991ab9be9a48aa9606de3a188655a3",
            "7c2e6392354e47a1b4dd185b9a6c6c4c",
            "025fbe91a6904c3c96c7378ff9f4dfcf"
          ]
        },
        "id": "oY85zPNHnBmD",
        "outputId": "73d93f16-7479-45f0-c630-81354f9cef58"
      },
      "execution_count": null,
      "outputs": [
        {
          "output_type": "stream",
          "name": "stdout",
          "text": [
            "Downloading http://fashion-mnist.s3-website.eu-central-1.amazonaws.com/train-images-idx3-ubyte.gz\n",
            "Downloading http://fashion-mnist.s3-website.eu-central-1.amazonaws.com/train-images-idx3-ubyte.gz to data/FashionMNIST/raw/train-images-idx3-ubyte.gz\n"
          ]
        },
        {
          "output_type": "display_data",
          "data": {
            "text/plain": [
              "  0%|          | 0/26421880 [00:00<?, ?it/s]"
            ],
            "application/vnd.jupyter.widget-view+json": {
              "version_major": 2,
              "version_minor": 0,
              "model_id": "a757ce8d25994f03a2af65e2f8f54887"
            }
          },
          "metadata": {}
        },
        {
          "output_type": "stream",
          "name": "stdout",
          "text": [
            "Extracting data/FashionMNIST/raw/train-images-idx3-ubyte.gz to data/FashionMNIST/raw\n",
            "\n",
            "Downloading http://fashion-mnist.s3-website.eu-central-1.amazonaws.com/train-labels-idx1-ubyte.gz\n",
            "Downloading http://fashion-mnist.s3-website.eu-central-1.amazonaws.com/train-labels-idx1-ubyte.gz to data/FashionMNIST/raw/train-labels-idx1-ubyte.gz\n"
          ]
        },
        {
          "output_type": "display_data",
          "data": {
            "text/plain": [
              "  0%|          | 0/29515 [00:00<?, ?it/s]"
            ],
            "application/vnd.jupyter.widget-view+json": {
              "version_major": 2,
              "version_minor": 0,
              "model_id": "346f2a229e154a40b20b5da4c71689ba"
            }
          },
          "metadata": {}
        },
        {
          "output_type": "stream",
          "name": "stdout",
          "text": [
            "Extracting data/FashionMNIST/raw/train-labels-idx1-ubyte.gz to data/FashionMNIST/raw\n",
            "\n",
            "Downloading http://fashion-mnist.s3-website.eu-central-1.amazonaws.com/t10k-images-idx3-ubyte.gz\n",
            "Downloading http://fashion-mnist.s3-website.eu-central-1.amazonaws.com/t10k-images-idx3-ubyte.gz to data/FashionMNIST/raw/t10k-images-idx3-ubyte.gz\n"
          ]
        },
        {
          "output_type": "display_data",
          "data": {
            "text/plain": [
              "  0%|          | 0/4422102 [00:00<?, ?it/s]"
            ],
            "application/vnd.jupyter.widget-view+json": {
              "version_major": 2,
              "version_minor": 0,
              "model_id": "867c8e2fe7bb4fe7ab742d98a9232a89"
            }
          },
          "metadata": {}
        },
        {
          "output_type": "stream",
          "name": "stdout",
          "text": [
            "Extracting data/FashionMNIST/raw/t10k-images-idx3-ubyte.gz to data/FashionMNIST/raw\n",
            "\n",
            "Downloading http://fashion-mnist.s3-website.eu-central-1.amazonaws.com/t10k-labels-idx1-ubyte.gz\n",
            "Downloading http://fashion-mnist.s3-website.eu-central-1.amazonaws.com/t10k-labels-idx1-ubyte.gz to data/FashionMNIST/raw/t10k-labels-idx1-ubyte.gz\n"
          ]
        },
        {
          "output_type": "display_data",
          "data": {
            "text/plain": [
              "  0%|          | 0/5148 [00:00<?, ?it/s]"
            ],
            "application/vnd.jupyter.widget-view+json": {
              "version_major": 2,
              "version_minor": 0,
              "model_id": "f15dc23f8a8945f5a62239618cc04ffe"
            }
          },
          "metadata": {}
        },
        {
          "output_type": "stream",
          "name": "stdout",
          "text": [
            "Extracting data/FashionMNIST/raw/t10k-labels-idx1-ubyte.gz to data/FashionMNIST/raw\n",
            "\n"
          ]
        }
      ]
    },
    {
      "cell_type": "markdown",
      "source": [
        "## 하이퍼파라미터(Hyperparameter)"
      ],
      "metadata": {
        "id": "EaUDmMWdnMqP"
      }
    },
    {
      "cell_type": "markdown",
      "source": [
        "모델 최적화 과정을 제어할 수 있는 조절 가능한 매개변수\n",
        "\n",
        "서로 다른 하이퍼파라미터 값은 모델 학습과 수렴율(convergence rate)에 영향을 미칠 수 있다."
      ],
      "metadata": {
        "id": "4ibyV8k2nOvh"
      }
    },
    {
      "cell_type": "markdown",
      "source": [
        "학습 시에는 다음과 같은 하이퍼파라미터를 정의\n",
        "\n",
        "* 에폭(epoch) 수 - 데이터셋을 반복하는 횟수\n",
        "\n",
        "* 배치 크기(batch size) - 매개변수가 갱신되기 전 신경망을 통해 전파된 데이터 샘플의 수\n",
        "\n",
        "* 학습률(learning rate) - 각 배치/에폭에서 모델의 매개변수를 조절하는 비율. 값이 작을수록 학습 속도가 느려지고, 값이 크면 학습 중 예측할 수 없는 동작이 발생할 수 있다."
      ],
      "metadata": {
        "id": "WxRKOj-lnXrl"
      }
    },
    {
      "cell_type": "code",
      "source": [
        "learning_rate = 1e-3\n",
        "batch_size = 64\n",
        "epochs = 5"
      ],
      "metadata": {
        "id": "eEOkJ5TxnPFK"
      },
      "execution_count": null,
      "outputs": []
    },
    {
      "cell_type": "markdown",
      "source": [
        "## 최적화 단계(Optimization Loop)"
      ],
      "metadata": {
        "id": "uVMeJ3wgnnFj"
      }
    },
    {
      "cell_type": "markdown",
      "source": [
        "하이퍼파라미터를 설정한 뒤에는 최적화 단계를 통해 모델을 학습하고 최적화할 수 있다. 최적화 단계의 각 반복(iteration)을 에폭이라 부른다."
      ],
      "metadata": {
        "id": "-cT1vuDUnvoc"
      }
    },
    {
      "cell_type": "markdown",
      "source": [
        "에폭의 구성\n",
        "\n",
        "* 학습 단계(train loop) - 학습용 데이터셋을 반복(iterate)하고 최적의 매개변수로 수렴\n",
        "\n",
        "* 검증/테스트 단계(validation/test loop) - 모델 성능이 개선되고 있는지를 확인하기 위해 테스트 데이터셋을 반복(iterate)"
      ],
      "metadata": {
        "id": "pZln5OwJoAhi"
      }
    },
    {
      "cell_type": "markdown",
      "source": [
        "### 손실 함수(loss function)"
      ],
      "metadata": {
        "id": "s6zlc6xAoGem"
      }
    },
    {
      "cell_type": "markdown",
      "source": [
        "손실 함수(loss function)는 획득한 결과와 실제 값 사이의 틀린 정도(degree of dissimilarity)를 측정하며, 학습 중에 이 값을 최소화하려고 한다. 주어진 데이터 샘플을 입력으로 계산한 예측과 정답(label)을 비교하여 손실(loss)을 계산한다.\n",
        "\n",
        "일반적인 손실함수에는 회귀 문제(regression task)에 사용하는 nn.MSELoss(평균 제곱 오차(MSE; Mean Square Error))나 분류(classification)에 사용하는 nn.NLLLoss (음의 로그 우도(Negative Log Likelihood)), 그리고 nn.LogSoftmax와 nn.NLLLoss를 합친 nn.CrossEntropyLoss 등이 있다.\n",
        "\n",
        "모델의 출력 로짓(logit)을 nn.CrossEntropyLoss에 전달하여 로짓(logit)을 정규화하고 예측 오류를 계산한다."
      ],
      "metadata": {
        "id": "UKLZNWFzoQFK"
      }
    },
    {
      "cell_type": "code",
      "source": [
        "# 손실 함수를 초기화합니다.\n",
        "loss_fn = nn.CrossEntropyLoss()"
      ],
      "metadata": {
        "id": "xylSALl9ogRr"
      },
      "execution_count": null,
      "outputs": []
    },
    {
      "cell_type": "markdown",
      "source": [
        "### 옵티마이저(Optimizer)"
      ],
      "metadata": {
        "id": "wHH2DUJ4oifv"
      }
    },
    {
      "cell_type": "markdown",
      "source": [
        "최적화 알고리즘은 이 과정이 수행되는 방식(여기에서는 확률적 경사하강법(SGD; Stochastic Gradient Descent))을 정의한다. 모든 최적화 절차(logic)는 optimizer 객체에 캡슐화(encapsulate)된다. 여기서는 SGD 옵티마이저를 사용하고 있으며, PyTorch에는 ADAM이나 RMSProp과 같은 다른 종류의 모델과 데이터에서 더 잘 동작하는 다양한 옵티마이저가 있다."
      ],
      "metadata": {
        "id": "rEYjtrJSolYt"
      }
    },
    {
      "cell_type": "code",
      "source": [
        "#학습하려는 모델의 매개변수와 학습률(learning rate) 하이퍼파라미터를 등록하여 옵티마이저를 초기화합니다.\n",
        "\n",
        "optimizer = torch.optim.SGD(model.parameters(), lr=learning_rate)"
      ],
      "metadata": {
        "id": "r9lUpHK3oy_1"
      },
      "execution_count": null,
      "outputs": []
    },
    {
      "cell_type": "markdown",
      "source": [
        "학습 단계(loop)에서 최적화하는 세 단계\n",
        "\n",
        "* optimizer.zero_grad()를 호출하여 모델 매개변수의 변화도를 재설정한다. 기본적으로 변화도는 더해지기(add up) 때문에 중복 계산을 막기 위해 반복할 때마다 명시적으로 0으로 설정\n",
        "\n",
        "* loss.backwards()를 호출하여 예측 손실(prediction loss)을 역전파한다. PyTorch는 각 매개변수에 대한 손실의 변화도를 저장\n",
        "\n",
        "* 변화도를 계산한 뒤에는 optimizer.step()을 호출하여 역전파 단계에서 수집된 변화도로 매개변수를 조정한다."
      ],
      "metadata": {
        "id": "_19_c5Vjo469"
      }
    },
    {
      "cell_type": "markdown",
      "source": [
        "## 전체 구현"
      ],
      "metadata": {
        "id": "cFKiR72jpMZR"
      }
    },
    {
      "cell_type": "code",
      "source": [
        "#최적화 코드를 반복하여 수행하는 train_loop와 테스트 데이터로 모델의 성능을 측정하는 test_loop를 정의하였습니다.\n",
        "\n",
        "def train_loop(dataloader, model, loss_fn, optimizer):\n",
        "    size = len(dataloader.dataset)\n",
        "    for batch, (X, y) in enumerate(dataloader):\n",
        "        # 예측(prediction)과 손실(loss) 계산\n",
        "        pred = model(X)\n",
        "        loss = loss_fn(pred, y)\n",
        "\n",
        "        # 역전파\n",
        "        optimizer.zero_grad()\n",
        "        loss.backward()\n",
        "        optimizer.step()\n",
        "\n",
        "        if batch % 100 == 0:\n",
        "            loss, current = loss.item(), batch * len(X)\n",
        "            print(f\"loss: {loss:>7f}  [{current:>5d}/{size:>5d}]\")\n",
        "\n",
        "\n",
        "def test_loop(dataloader, model, loss_fn):\n",
        "    size = len(dataloader.dataset)\n",
        "    num_batches = len(dataloader)\n",
        "    test_loss, correct = 0, 0\n",
        "\n",
        "    with torch.no_grad():\n",
        "        for X, y in dataloader:\n",
        "            pred = model(X)\n",
        "            test_loss += loss_fn(pred, y).item()\n",
        "            correct += (pred.argmax(1) == y).type(torch.float).sum().item()\n",
        "\n",
        "    test_loss /= num_batches\n",
        "    correct /= size\n",
        "    print(f\"Test Error: \\n Accuracy: {(100*correct):>0.1f}%, Avg loss: {test_loss:>8f} \\n\")"
      ],
      "metadata": {
        "id": "mFo7LRIMpRWr"
      },
      "execution_count": null,
      "outputs": []
    },
    {
      "cell_type": "code",
      "source": [
        "loss_fn = nn.CrossEntropyLoss()\n",
        "optimizer = torch.optim.SGD(model.parameters(), lr=learning_rate)\n",
        "\n",
        "epochs = 10\n",
        "for t in range(epochs):\n",
        "    print(f\"Epoch {t+1}\\n-------------------------------\")\n",
        "    train_loop(train_dataloader, model, loss_fn, optimizer)\n",
        "    test_loop(test_dataloader, model, loss_fn)\n",
        "print(\"Done!\")"
      ],
      "metadata": {
        "colab": {
          "base_uri": "https://localhost:8080/"
        },
        "id": "eIqB9j5_pWNc",
        "outputId": "5bed392d-f918-41a0-80d2-edb5b7785d89"
      },
      "execution_count": null,
      "outputs": [
        {
          "output_type": "stream",
          "name": "stdout",
          "text": [
            "Epoch 1\n",
            "-------------------------------\n",
            "loss: 2.306584  [    0/60000]\n",
            "loss: 2.300630  [ 6400/60000]\n",
            "loss: 2.273491  [12800/60000]\n",
            "loss: 2.262851  [19200/60000]\n",
            "loss: 2.259281  [25600/60000]\n",
            "loss: 2.217312  [32000/60000]\n",
            "loss: 2.226429  [38400/60000]\n",
            "loss: 2.196736  [44800/60000]\n",
            "loss: 2.179781  [51200/60000]\n",
            "loss: 2.146998  [57600/60000]\n",
            "Test Error: \n",
            " Accuracy: 41.4%, Avg loss: 2.149064 \n",
            "\n",
            "Epoch 2\n",
            "-------------------------------\n",
            "loss: 2.163759  [    0/60000]\n",
            "loss: 2.160990  [ 6400/60000]\n",
            "loss: 2.098732  [12800/60000]\n",
            "loss: 2.107898  [19200/60000]\n",
            "loss: 2.065055  [25600/60000]\n",
            "loss: 1.997484  [32000/60000]\n",
            "loss: 2.027209  [38400/60000]\n",
            "loss: 1.953233  [44800/60000]\n",
            "loss: 1.940903  [51200/60000]\n",
            "loss: 1.873267  [57600/60000]\n",
            "Test Error: \n",
            " Accuracy: 56.4%, Avg loss: 1.875483 \n",
            "\n",
            "Epoch 3\n",
            "-------------------------------\n",
            "loss: 1.912938  [    0/60000]\n",
            "loss: 1.894825  [ 6400/60000]\n",
            "loss: 1.769467  [12800/60000]\n",
            "loss: 1.802891  [19200/60000]\n",
            "loss: 1.694924  [25600/60000]\n",
            "loss: 1.641766  [32000/60000]\n",
            "loss: 1.664754  [38400/60000]\n",
            "loss: 1.568438  [44800/60000]\n",
            "loss: 1.578188  [51200/60000]\n",
            "loss: 1.481182  [57600/60000]\n",
            "Test Error: \n",
            " Accuracy: 60.1%, Avg loss: 1.497599 \n",
            "\n",
            "Epoch 4\n",
            "-------------------------------\n",
            "loss: 1.568515  [    0/60000]\n",
            "loss: 1.542367  [ 6400/60000]\n",
            "loss: 1.384019  [12800/60000]\n",
            "loss: 1.454498  [19200/60000]\n",
            "loss: 1.330182  [25600/60000]\n",
            "loss: 1.322670  [32000/60000]\n",
            "loss: 1.344318  [38400/60000]\n",
            "loss: 1.269674  [44800/60000]\n",
            "loss: 1.296928  [51200/60000]\n",
            "loss: 1.205410  [57600/60000]\n",
            "Test Error: \n",
            " Accuracy: 63.0%, Avg loss: 1.230051 \n",
            "\n",
            "Epoch 5\n",
            "-------------------------------\n",
            "loss: 1.311499  [    0/60000]\n",
            "loss: 1.298623  [ 6400/60000]\n",
            "loss: 1.127702  [12800/60000]\n",
            "loss: 1.234281  [19200/60000]\n",
            "loss: 1.105352  [25600/60000]\n",
            "loss: 1.124382  [32000/60000]\n",
            "loss: 1.155333  [38400/60000]\n",
            "loss: 1.093218  [44800/60000]\n",
            "loss: 1.125256  [51200/60000]\n",
            "loss: 1.051010  [57600/60000]\n",
            "Test Error: \n",
            " Accuracy: 64.6%, Avg loss: 1.069445 \n",
            "\n",
            "Epoch 6\n",
            "-------------------------------\n",
            "loss: 1.144321  [    0/60000]\n",
            "loss: 1.149835  [ 6400/60000]\n",
            "loss: 0.963396  [12800/60000]\n",
            "loss: 1.100459  [19200/60000]\n",
            "loss: 0.969178  [25600/60000]\n",
            "loss: 0.994145  [32000/60000]\n",
            "loss: 1.040066  [38400/60000]\n",
            "loss: 0.984607  [44800/60000]\n",
            "loss: 1.014485  [51200/60000]\n",
            "loss: 0.956297  [57600/60000]\n",
            "Test Error: \n",
            " Accuracy: 65.5%, Avg loss: 0.967232 \n",
            "\n",
            "Epoch 7\n",
            "-------------------------------\n",
            "loss: 1.029329  [    0/60000]\n",
            "loss: 1.054285  [ 6400/60000]\n",
            "loss: 0.852469  [12800/60000]\n",
            "loss: 1.012219  [19200/60000]\n",
            "loss: 0.883308  [25600/60000]\n",
            "loss: 0.903160  [32000/60000]\n",
            "loss: 0.964127  [38400/60000]\n",
            "loss: 0.915385  [44800/60000]\n",
            "loss: 0.938491  [51200/60000]\n",
            "loss: 0.892945  [57600/60000]\n",
            "Test Error: \n",
            " Accuracy: 66.8%, Avg loss: 0.897925 \n",
            "\n",
            "Epoch 8\n",
            "-------------------------------\n",
            "loss: 0.945283  [    0/60000]\n",
            "loss: 0.987813  [ 6400/60000]\n",
            "loss: 0.773901  [12800/60000]\n",
            "loss: 0.949932  [19200/60000]\n",
            "loss: 0.825362  [25600/60000]\n",
            "loss: 0.837085  [32000/60000]\n",
            "loss: 0.909952  [38400/60000]\n",
            "loss: 0.868871  [44800/60000]\n",
            "loss: 0.883812  [51200/60000]\n",
            "loss: 0.847414  [57600/60000]\n",
            "Test Error: \n",
            " Accuracy: 68.0%, Avg loss: 0.847995 \n",
            "\n",
            "Epoch 9\n",
            "-------------------------------\n",
            "loss: 0.880962  [    0/60000]\n",
            "loss: 0.937855  [ 6400/60000]\n",
            "loss: 0.715428  [12800/60000]\n",
            "loss: 0.903599  [19200/60000]\n",
            "loss: 0.783606  [25600/60000]\n",
            "loss: 0.787658  [32000/60000]\n",
            "loss: 0.868404  [38400/60000]\n",
            "loss: 0.836017  [44800/60000]\n",
            "loss: 0.842629  [51200/60000]\n",
            "loss: 0.812369  [57600/60000]\n",
            "Test Error: \n",
            " Accuracy: 69.1%, Avg loss: 0.809992 \n",
            "\n",
            "Epoch 10\n",
            "-------------------------------\n",
            "loss: 0.829332  [    0/60000]\n",
            "loss: 0.897524  [ 6400/60000]\n",
            "loss: 0.669829  [12800/60000]\n",
            "loss: 0.867687  [19200/60000]\n",
            "loss: 0.751865  [25600/60000]\n",
            "loss: 0.749622  [32000/60000]\n",
            "loss: 0.834685  [38400/60000]\n",
            "loss: 0.811485  [44800/60000]\n",
            "loss: 0.810343  [51200/60000]\n",
            "loss: 0.783987  [57600/60000]\n",
            "Test Error: \n",
            " Accuracy: 70.7%, Avg loss: 0.779624 \n",
            "\n",
            "Done!\n"
          ]
        }
      ]
    },
    {
      "cell_type": "markdown",
      "source": [
        "# 7.모델 저장하고 불러오기"
      ],
      "metadata": {
        "id": "OYbFDnuxpYZf"
      }
    },
    {
      "cell_type": "code",
      "source": [
        "import torch\n",
        "import torchvision.models as models"
      ],
      "metadata": {
        "id": "279-_QunqQ0k"
      },
      "execution_count": null,
      "outputs": []
    },
    {
      "cell_type": "markdown",
      "source": [
        "## 모델 가중치 저장하고 불러오기"
      ],
      "metadata": {
        "id": "UKA5MvCxqSCb"
      }
    },
    {
      "cell_type": "markdown",
      "source": [
        "yTorch 모델은 학습한 매개변수를 state_dict라고 불리는 내부 상태 사전(internal state dictionary)에 저장한다. 이 상태 값들은 torch.save 메소드를 사용하여 저장(persist)할 수 있다."
      ],
      "metadata": {
        "id": "eqaP8JRiqVoU"
      }
    },
    {
      "cell_type": "code",
      "source": [
        "model = models.vgg16(pretrained=True)\n",
        "torch.save(model.state_dict(), 'model_weights.pth')"
      ],
      "metadata": {
        "colab": {
          "base_uri": "https://localhost:8080/",
          "height": 161,
          "referenced_widgets": [
            "2ce1ed4d7e884a01b6c8dde079c9cb7f",
            "4b409010b20c4603a9c6cafa0717cca1",
            "d1c49a9a892342cba8af8e16bcd77de3",
            "bd6b6bf032eb4aeda1e033fefe7edacc",
            "f9e7ad3842ae42d599342bf020f66e19",
            "3b4deebc0db445baa6efc750532d3384",
            "858f63c811454052ac0bfe698411163d",
            "591cc1f2a1d242e0916d805538655fd0",
            "2b79ae98f35a4f969e9bafeddd95b9b5",
            "c2c3adb177fe4f31b9bc06f61f9fc9d3",
            "65d0020d42b940baa8efd9816a967eb9"
          ]
        },
        "id": "yQ9BOH_WqZiU",
        "outputId": "0c0b2d9f-2e84-43c2-dc25-b0bd83d7a872"
      },
      "execution_count": null,
      "outputs": [
        {
          "output_type": "stream",
          "name": "stderr",
          "text": [
            "/usr/local/lib/python3.7/dist-packages/torchvision/models/_utils.py:209: UserWarning: The parameter 'pretrained' is deprecated since 0.13 and will be removed in 0.15, please use 'weights' instead.\n",
            "  f\"The parameter '{pretrained_param}' is deprecated since 0.13 and will be removed in 0.15, \"\n",
            "/usr/local/lib/python3.7/dist-packages/torchvision/models/_utils.py:223: UserWarning: Arguments other than a weight enum or `None` for 'weights' are deprecated since 0.13 and will be removed in 0.15. The current behavior is equivalent to passing `weights=VGG16_Weights.IMAGENET1K_V1`. You can also use `weights=VGG16_Weights.DEFAULT` to get the most up-to-date weights.\n",
            "  warnings.warn(msg)\n",
            "Downloading: \"https://download.pytorch.org/models/vgg16-397923af.pth\" to /root/.cache/torch/hub/checkpoints/vgg16-397923af.pth\n"
          ]
        },
        {
          "output_type": "display_data",
          "data": {
            "text/plain": [
              "  0%|          | 0.00/528M [00:00<?, ?B/s]"
            ],
            "application/vnd.jupyter.widget-view+json": {
              "version_major": 2,
              "version_minor": 0,
              "model_id": "2ce1ed4d7e884a01b6c8dde079c9cb7f"
            }
          },
          "metadata": {}
        }
      ]
    },
    {
      "cell_type": "code",
      "source": [
        "model = models.vgg16() # 기본 가중치를 불러오지 않으므로 pretrained=True를 지정하지 않습니다.\n",
        "model.load_state_dict(torch.load('model_weights.pth'))\n",
        "model.eval()"
      ],
      "metadata": {
        "colab": {
          "base_uri": "https://localhost:8080/"
        },
        "id": "OiieeuNaqcj9",
        "outputId": "1552718b-475c-46cb-8dbb-aedb0d517ebe"
      },
      "execution_count": null,
      "outputs": [
        {
          "output_type": "execute_result",
          "data": {
            "text/plain": [
              "VGG(\n",
              "  (features): Sequential(\n",
              "    (0): Conv2d(3, 64, kernel_size=(3, 3), stride=(1, 1), padding=(1, 1))\n",
              "    (1): ReLU(inplace=True)\n",
              "    (2): Conv2d(64, 64, kernel_size=(3, 3), stride=(1, 1), padding=(1, 1))\n",
              "    (3): ReLU(inplace=True)\n",
              "    (4): MaxPool2d(kernel_size=2, stride=2, padding=0, dilation=1, ceil_mode=False)\n",
              "    (5): Conv2d(64, 128, kernel_size=(3, 3), stride=(1, 1), padding=(1, 1))\n",
              "    (6): ReLU(inplace=True)\n",
              "    (7): Conv2d(128, 128, kernel_size=(3, 3), stride=(1, 1), padding=(1, 1))\n",
              "    (8): ReLU(inplace=True)\n",
              "    (9): MaxPool2d(kernel_size=2, stride=2, padding=0, dilation=1, ceil_mode=False)\n",
              "    (10): Conv2d(128, 256, kernel_size=(3, 3), stride=(1, 1), padding=(1, 1))\n",
              "    (11): ReLU(inplace=True)\n",
              "    (12): Conv2d(256, 256, kernel_size=(3, 3), stride=(1, 1), padding=(1, 1))\n",
              "    (13): ReLU(inplace=True)\n",
              "    (14): Conv2d(256, 256, kernel_size=(3, 3), stride=(1, 1), padding=(1, 1))\n",
              "    (15): ReLU(inplace=True)\n",
              "    (16): MaxPool2d(kernel_size=2, stride=2, padding=0, dilation=1, ceil_mode=False)\n",
              "    (17): Conv2d(256, 512, kernel_size=(3, 3), stride=(1, 1), padding=(1, 1))\n",
              "    (18): ReLU(inplace=True)\n",
              "    (19): Conv2d(512, 512, kernel_size=(3, 3), stride=(1, 1), padding=(1, 1))\n",
              "    (20): ReLU(inplace=True)\n",
              "    (21): Conv2d(512, 512, kernel_size=(3, 3), stride=(1, 1), padding=(1, 1))\n",
              "    (22): ReLU(inplace=True)\n",
              "    (23): MaxPool2d(kernel_size=2, stride=2, padding=0, dilation=1, ceil_mode=False)\n",
              "    (24): Conv2d(512, 512, kernel_size=(3, 3), stride=(1, 1), padding=(1, 1))\n",
              "    (25): ReLU(inplace=True)\n",
              "    (26): Conv2d(512, 512, kernel_size=(3, 3), stride=(1, 1), padding=(1, 1))\n",
              "    (27): ReLU(inplace=True)\n",
              "    (28): Conv2d(512, 512, kernel_size=(3, 3), stride=(1, 1), padding=(1, 1))\n",
              "    (29): ReLU(inplace=True)\n",
              "    (30): MaxPool2d(kernel_size=2, stride=2, padding=0, dilation=1, ceil_mode=False)\n",
              "  )\n",
              "  (avgpool): AdaptiveAvgPool2d(output_size=(7, 7))\n",
              "  (classifier): Sequential(\n",
              "    (0): Linear(in_features=25088, out_features=4096, bias=True)\n",
              "    (1): ReLU(inplace=True)\n",
              "    (2): Dropout(p=0.5, inplace=False)\n",
              "    (3): Linear(in_features=4096, out_features=4096, bias=True)\n",
              "    (4): ReLU(inplace=True)\n",
              "    (5): Dropout(p=0.5, inplace=False)\n",
              "    (6): Linear(in_features=4096, out_features=1000, bias=True)\n",
              "  )\n",
              ")"
            ]
          },
          "metadata": {},
          "execution_count": 15
        }
      ]
    },
    {
      "cell_type": "markdown",
      "source": [
        "*추론(inference)을 하기 전에 model.eval() 메소드를 호출하여 드롭아웃(dropout)과 배치 정규화(batch normalization)를 평가 모드(evaluation mode)로 설정해야 한다. 그렇지 않으면 일관성 없는 추론 결과가 생성된다."
      ],
      "metadata": {
        "id": "l99BwDUKqjxs"
      }
    },
    {
      "cell_type": "markdown",
      "source": [
        "## 모델의 형태를 포함하여 저장하고 불러오기"
      ],
      "metadata": {
        "id": "fJbTPaCJqnzx"
      }
    },
    {
      "cell_type": "markdown",
      "source": [
        " 이 클래스의 구조를 모델과 함께 저장하고 싶으면, (model.state_dict()가 아닌) model 을 저장 함수에 전달한다."
      ],
      "metadata": {
        "id": "G83ukEICqxor"
      }
    },
    {
      "cell_type": "code",
      "source": [
        "torch.save(model, 'model.pth')"
      ],
      "metadata": {
        "id": "4nFPJ2S-qsrQ"
      },
      "execution_count": null,
      "outputs": []
    },
    {
      "cell_type": "markdown",
      "source": [
        "모델을 불러온다."
      ],
      "metadata": {
        "id": "ZWMyZE86q3FY"
      }
    },
    {
      "cell_type": "code",
      "source": [
        "model = torch.load('model.pth')"
      ],
      "metadata": {
        "id": "cVqvXsi1quyE"
      },
      "execution_count": null,
      "outputs": []
    }
  ]
}